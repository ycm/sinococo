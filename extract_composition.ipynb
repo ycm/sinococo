{
 "cells": [
  {
   "cell_type": "code",
   "execution_count": 84,
   "id": "32e1dd05",
   "metadata": {},
   "outputs": [],
   "source": [
    "import os\n",
    "import json\n",
    "from alternative_replacements import make_bin_alt_replacements\n",
    "from collections import defaultdict"
   ]
  },
  {
   "cell_type": "code",
   "execution_count": 85,
   "id": "a77440e5",
   "metadata": {},
   "outputs": [],
   "source": [
    "cjk_ranges = [\n",
    "        ( 0x4E00,  0x62FF),\n",
    "        ( 0x6300,  0x77FF),\n",
    "        ( 0x7800,  0x8CFF),\n",
    "        ( 0x8D00,  0x9FCC),\n",
    "        ( 0x3400,  0x4DBF),\n",
    "        (0x20000, 0x215FF),\n",
    "        (0x21600, 0x230FF),\n",
    "        (0x23100, 0x245FF),\n",
    "        (0x24600, 0x260FF),\n",
    "        (0x26100, 0x275FF),\n",
    "        (0x27600, 0x290FF),\n",
    "        (0x29100, 0x2A6DF),\n",
    "        (0x2A700, 0x2B734),\n",
    "        (0x2B740, 0x2B81D),\n",
    "        (0x2B820, 0x2CEAF),\n",
    "        (0x2CEB0, 0x2EBEF),\n",
    "        (0x2F800, 0x2FA1F),\n",
    "        (0x30000, 0x3134A), # cjk ext-g\n",
    "        (0x31c0,  0x31e3), # cjk strokes\n",
    "        (0x2E80,  0x2EF3), # cjk radical supplement\n",
    "        (0x2F00, 0x2fdf), # kangxi radicals\n",
    "        (0x2FF0,  0x2FFB), #ideographic description block\n",
    "        (0xF900, 0xFAFF) # cjk compatibility ideographs\n",
    "    ]\n",
    "\n",
    "exclusion_ranges = [\n",
    "    (0x30A1, 0x30FF), # katakana\n",
    "    (0x3041, 0x309f), # hiragana\n",
    "    (0x3000, 0x303F) # cjk symbols/punct\n",
    "]\n",
    "\n",
    "def is_cjk(char):\n",
    "    char = ord(char)\n",
    "    for bottom, top in cjk_ranges:\n",
    "        if char >= bottom and char <= top:\n",
    "            return True\n",
    "    return False\n",
    "\n",
    "def should_be_excluded(char):\n",
    "    char = ord(char)\n",
    "    for bottom, top in exclusion_ranges:\n",
    "        if bottom <= char <= top:\n",
    "            return True\n",
    "    return False"
   ]
  },
  {
   "cell_type": "code",
   "execution_count": 86,
   "id": "fbc152af",
   "metadata": {},
   "outputs": [],
   "source": [
    "char_to_ids = defaultdict(list)"
   ]
  },
  {
   "cell_type": "code",
   "execution_count": 87,
   "id": "21468aaa",
   "metadata": {},
   "outputs": [],
   "source": [
    "with open('RAW_01.json') as f:\n",
    "    raw = json.load(f)"
   ]
  },
  {
   "cell_type": "code",
   "execution_count": 88,
   "id": "477e0a7e",
   "metadata": {},
   "outputs": [
    {
     "name": "stdout",
     "output_type": "stream",
     "text": [
      "身 ['{{zh-forms|alt=⿻㇒力-2nd round simp.}']\n",
      "鬬 [' <!-- Not the same as ⿵鬥斲 -->====References====']\n"
     ]
    }
   ],
   "source": [
    "for char, strings in raw.items():\n",
    "    ss = [s for s in strings if 'ids=' in s]\n",
    "    if not ss: print(char, strings)\n",
    "    for s in ss:\n",
    "        s = make_bin_alt_replacements(s)\n",
    "        split = s.replace('{', '').replace('}', '').split('|')\n",
    "            \n",
    "        ids = [sp for sp in split if 'ids=' in sp]\n",
    "        assert len(ids) == 1\n",
    "        forms = ids[0].replace('ids=', '').split(',')\n",
    "        \n",
    "        if not forms: print(char, strings)\n",
    "        for f in forms:\n",
    "            if ''.join([c for c in f if is_cjk(c)]):\n",
    "                if any(should_be_excluded(c) for c in f):\n",
    "                    continue\n",
    "                char_to_ids[char].append(''.join([c for c in f if is_cjk(c)]))"
   ]
  },
  {
   "cell_type": "code",
   "execution_count": 89,
   "id": "3e9bde46",
   "metadata": {},
   "outputs": [
    {
     "name": "stdout",
     "output_type": "stream",
     "text": [
      "['{{Han char|rn=1|rad=一|as=03|sn=4|four=|canj=QNI|ids=⿻二⿱ㄣ丶}']\n"
     ]
    },
    {
     "data": {
      "text/plain": [
       "'{{Han char|rn=118|rad=竹|as=06|sn=12|four=88117|canj=HMHN,HMNJ|ids=⿱[[竹]][[巩]]}'"
      ]
     },
     "execution_count": 89,
     "metadata": {},
     "output_type": "execute_result"
    }
   ],
   "source": [
    "print(raw['专'])\n",
    "make_bin_alt_replacements(raw['筑'][0])"
   ]
  },
  {
   "cell_type": "code",
   "execution_count": 90,
   "id": "0fe5093c",
   "metadata": {},
   "outputs": [
    {
     "name": "stdout",
     "output_type": "stream",
     "text": [
      "i False\n",
      "d False\n",
      "s False\n",
      "= False\n",
      "⿻ True\n",
      "二 True\n",
      "⿱ True\n",
      "ㄣ False\n",
      "丶 True\n",
      "} False\n"
     ]
    }
   ],
   "source": [
    "for i in raw['专'][0][-10:]:\n",
    "    print(i, is_cjk(i))"
   ]
  },
  {
   "cell_type": "code",
   "execution_count": 91,
   "id": "4707efe8",
   "metadata": {
    "scrolled": true
   },
   "outputs": [
    {
     "data": {
      "text/plain": [
       "21178"
      ]
     },
     "execution_count": 91,
     "metadata": {},
     "output_type": "execute_result"
    }
   ],
   "source": [
    "len(char_to_ids)"
   ]
  },
  {
   "cell_type": "code",
   "execution_count": 92,
   "id": "eb9cfbef",
   "metadata": {},
   "outputs": [],
   "source": [
    "import re\n",
    "# as per recommendation from @freylis, compile once only\n",
    "CLEANR = re.compile('<.*?>') \n",
    "\n",
    "def cleanhtml(raw_html):\n",
    "    cleantext = re.sub(CLEANR, '', raw_html)\n",
    "    return cleantext"
   ]
  },
  {
   "cell_type": "code",
   "execution_count": 93,
   "id": "d6ff8d95",
   "metadata": {},
   "outputs": [
    {
     "name": "stdout",
     "output_type": "stream",
     "text": [
      "['⿰魚&#xfa26;'] ⿰魚\n"
     ]
    }
   ],
   "source": [
    "for path in os.listdir('missing_from_parse/'):\n",
    "    if len(path) != 5:\n",
    "        continue\n",
    "    \n",
    "    char = path[0]\n",
    "    with open(os.path.join('missing_from_parse/', path)) as f:\n",
    "        text = f.readlines()[0]\n",
    "    clean = cleanhtml(text)\n",
    "    clean = clean[clean.index('composition') + len('composition '):-2].split(' or ')\n",
    "    \n",
    "    for form in clean:\n",
    "        f = ''.join([c for c in form if is_cjk(c)])\n",
    "        if char == '𩼁':\n",
    "            print(clean, f)\n",
    "        if not f: continue\n",
    "        if char in char_to_ids:\n",
    "            if f not in char_to_ids[char]:\n",
    "                char_to_ids[char].append(f)\n",
    "        else:\n",
    "            char_to_ids[char].append(f)"
   ]
  },
  {
   "cell_type": "code",
   "execution_count": 94,
   "id": "47e4e083",
   "metadata": {},
   "outputs": [],
   "source": [
    "with open('CHAR_TO_IDS.json', 'w', encoding='utf-8') as f:\n",
    "    json.dump(char_to_ids, f, ensure_ascii=False, indent=2)"
   ]
  },
  {
   "cell_type": "code",
   "execution_count": 95,
   "id": "3f20ebaf",
   "metadata": {},
   "outputs": [
    {
     "name": "stdout",
     "output_type": "stream",
     "text": [
      "𠦂 ['⿻十']\n",
      "𡆢 ['⿴囗']\n",
      "𡰣 ['⿱丿']\n",
      "𢀑 ['⿷工𠃍', '⿻丅']\n",
      "𢀓 ['⿻工']\n",
      "𢀖 ['⿱工']\n",
      "𦱉 ['⿱艹']\n",
      "𧩶 ['⿰言']\n",
      "𧭹 ['⿱言']\n",
      "𩻝 ['⿰魚']\n",
      "𩼁 ['⿰魚']\n",
      "𩼧 ['⿰魚']\n",
      "total: 12\n"
     ]
    }
   ],
   "source": [
    "ct = 0\n",
    "for char, ids in char_to_ids.items():\n",
    "    for i in ids:\n",
    "        if len(i) == 2 and 0x2FF0 <= ord(i[0]) <= 0x2FFB:\n",
    "            print(char, ids)\n",
    "            ct += 1\n",
    "\n",
    "print(f'total: {ct}')"
   ]
  },
  {
   "cell_type": "code",
   "execution_count": null,
   "id": "36096092",
   "metadata": {},
   "outputs": [],
   "source": []
  },
  {
   "cell_type": "code",
   "execution_count": null,
   "id": "32ef8467",
   "metadata": {},
   "outputs": [],
   "source": []
  },
  {
   "cell_type": "code",
   "execution_count": null,
   "id": "471214c0",
   "metadata": {},
   "outputs": [],
   "source": []
  },
  {
   "cell_type": "code",
   "execution_count": null,
   "id": "4663c52f",
   "metadata": {},
   "outputs": [],
   "source": []
  },
  {
   "cell_type": "code",
   "execution_count": null,
   "id": "83ca9824",
   "metadata": {},
   "outputs": [],
   "source": []
  },
  {
   "cell_type": "code",
   "execution_count": null,
   "id": "b81b0eeb",
   "metadata": {},
   "outputs": [],
   "source": []
  },
  {
   "cell_type": "code",
   "execution_count": null,
   "id": "10a839e5",
   "metadata": {},
   "outputs": [],
   "source": []
  },
  {
   "cell_type": "code",
   "execution_count": null,
   "id": "3e7c6c60",
   "metadata": {},
   "outputs": [],
   "source": []
  }
 ],
 "metadata": {
  "kernelspec": {
   "display_name": "Python 3 (ipykernel)",
   "language": "python",
   "name": "python3"
  },
  "language_info": {
   "codemirror_mode": {
    "name": "ipython",
    "version": 3
   },
   "file_extension": ".py",
   "mimetype": "text/x-python",
   "name": "python",
   "nbconvert_exporter": "python",
   "pygments_lexer": "ipython3",
   "version": "3.10.2"
  }
 },
 "nbformat": 4,
 "nbformat_minor": 5
}
