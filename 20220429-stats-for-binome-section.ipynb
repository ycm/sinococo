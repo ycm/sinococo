{
 "cells": [
  {
   "cell_type": "code",
   "execution_count": 6,
   "id": "a86963d9",
   "metadata": {},
   "outputs": [],
   "source": [
    "import pandas as pd\n",
    "import numpy as np\n",
    "from collections import defaultdict, Counter\n",
    "import unicodedata as unic\n",
    "import pickle as pkl\n",
    "from disjoint_set import DisjointSet"
   ]
  },
  {
   "cell_type": "markdown",
   "id": "f74a14f1",
   "metadata": {},
   "source": [
    "# how many binome entries from Kroll/CHIDEOD"
   ]
  },
  {
   "cell_type": "code",
   "execution_count": 7,
   "id": "473efeeb",
   "metadata": {},
   "outputs": [
    {
     "name": "stdout",
     "output_type": "stream",
     "text": [
      "927\n",
      "981\n"
     ]
    }
   ],
   "source": [
    "chideod_kroll_df = pd.read_csv('binomes_df.tsv', sep='\\t')\n",
    "print(len(chideod_kroll_df))\n",
    "\n",
    "all_chideod_binomes = set()\n",
    "for i, row in chideod_kroll_df.iterrows():\n",
    "    all_chideod_binomes.add(row.traditional)\n",
    "    variants = row.orthographic_variants\n",
    "    if str(variants) != 'nan':\n",
    "        variants_list = variants.strip().replace(' ', '').split(',')\n",
    "        for v in variants_list:\n",
    "            all_chideod_binomes.add(v)\n",
    "print(len(all_chideod_binomes))"
   ]
  },
  {
   "cell_type": "markdown",
   "id": "fef1acbc",
   "metadata": {},
   "source": [
    "# how many \"nontrivial\" binomes entries from Kroll/CHIDEOD (reversals allowed)"
   ]
  },
  {
   "cell_type": "code",
   "execution_count": 8,
   "id": "e0469a66",
   "metadata": {},
   "outputs": [
    {
     "data": {
      "text/plain": [
       "912"
      ]
     },
     "execution_count": 8,
     "metadata": {},
     "output_type": "execute_result"
    }
   ],
   "source": [
    "all_nontrivial_chideod_binomes = {bn for bn in all_chideod_binomes if not (bn[1] == '然' or bn[0] == bn[1])}\n",
    "len(all_nontrivial_chideod_binomes)"
   ]
  },
  {
   "cell_type": "code",
   "execution_count": 9,
   "id": "1047b3aa",
   "metadata": {},
   "outputs": [
    {
     "data": {
      "text/plain": [
       "{'俞俞',\n",
       " '俞然',\n",
       " '倜然',\n",
       " '具然',\n",
       " '凜然',\n",
       " '劃然',\n",
       " '勃然',\n",
       " '听然',\n",
       " '哆然',\n",
       " '喁喁',\n",
       " '嗑然',\n",
       " '嗒然',\n",
       " '嘸然',\n",
       " '塊然',\n",
       " '奭然',\n",
       " '嫣然',\n",
       " '嬪然',\n",
       " '岧岧',\n",
       " '岹岹',\n",
       " '峨然',\n",
       " '峩然',\n",
       " '嵬嵬',\n",
       " '嶄然',\n",
       " '嶪嶪',\n",
       " '嶫嶫',\n",
       " '巍巍',\n",
       " '幡然',\n",
       " '怫然',\n",
       " '恓恓',\n",
       " '戄然',\n",
       " '旛然',\n",
       " '曈曈',\n",
       " '橈橈',\n",
       " '油然',\n",
       " '洗然',\n",
       " '涓然',\n",
       " '渫渫',\n",
       " '滉然',\n",
       " '漂然',\n",
       " '潢然',\n",
       " '灼然',\n",
       " '率然',\n",
       " '皛皛',\n",
       " '祺然',\n",
       " '窅然',\n",
       " '索然',\n",
       " '翕然',\n",
       " '翛然',\n",
       " '肸肸',\n",
       " '脫然',\n",
       " '芊芊',\n",
       " '茫然',\n",
       " '荅然',\n",
       " '蔚蔚',\n",
       " '蘧然',\n",
       " '蜿蜿',\n",
       " '褏然',\n",
       " '譙譙',\n",
       " '贄然',\n",
       " '蹍然',\n",
       " '蹙然',\n",
       " '蹴然',\n",
       " '酌然',\n",
       " '閹然',\n",
       " '闞然',\n",
       " '顒然',\n",
       " '顒顒',\n",
       " '鬱鬱',\n",
       " '黮黮'}"
      ]
     },
     "execution_count": 9,
     "metadata": {},
     "output_type": "execute_result"
    }
   ],
   "source": [
    "{bn for bn in all_chideod_binomes if (bn[1] == '然' or bn[0] == bn[1])}"
   ]
  },
  {
   "cell_type": "markdown",
   "id": "caef2a77",
   "metadata": {},
   "source": [
    "# how many binomes from Kroll/CHIDEOD with true orthographic variants\n",
    "\n",
    "true orthographic variant:\n",
    "\n",
    "- not just duplication\n",
    "- not just ~然\n",
    "- not just a reversal"
   ]
  },
  {
   "cell_type": "code",
   "execution_count": 10,
   "id": "af5c33d4",
   "metadata": {},
   "outputs": [],
   "source": [
    "clusters = DisjointSet()\n",
    "\n",
    "for i, row in chideod_kroll_df.iterrows():\n",
    "    main_binome = row.traditional\n",
    "    variants = row.orthographic_variants\n",
    "    \n",
    "    if str(variants) == 'nan':\n",
    "        forms = []\n",
    "    else:\n",
    "        forms = variants.strip().replace(' ', '').split(',')\n",
    "    \n",
    "    if main_binome in all_nontrivial_chideod_binomes:\n",
    "        forms.append(main_binome)\n",
    "    \n",
    "    if forms:\n",
    "        for form in forms:\n",
    "            clusters.find(form)\n",
    "        for form in forms[1:]:\n",
    "            clusters.union(form, forms[0])"
   ]
  },
  {
   "cell_type": "code",
   "execution_count": 11,
   "id": "c93c1452",
   "metadata": {
    "scrolled": true
   },
   "outputs": [
    {
     "name": "stdout",
     "output_type": "stream",
     "text": [
      "num clusters 748\n",
      "num clusters with >= binome 135\n"
     ]
    }
   ],
   "source": [
    "print(f'num clusters {len(list(clusters.itersets()))}')\n",
    "print(f'num clusters with >= binome {len(list(c for c in clusters.itersets() if len(c) > 1))}')"
   ]
  },
  {
   "cell_type": "code",
   "execution_count": 12,
   "id": "57ffd198",
   "metadata": {},
   "outputs": [
    {
     "data": {
      "text/plain": [
       "[{'黮䨴', '黮暗', '黮黮', '黯黮'},\n",
       " {'辟易', '避易'},\n",
       " {'參潭', '參驔'},\n",
       " {'倉卒', '倉猝'},\n",
       " {'倉煌', '倉皇'},\n",
       " {'摧藏', '藏催'},\n",
       " {'杈枒', '枒杈'},\n",
       " {'差池', '柴池'},\n",
       " {'蠆介', '蠆芥'},\n",
       " {'嬋娟', '蟬娟'},\n",
       " {'蟬聯', '蟬連'},\n",
       " {'孱顏', '嶄巖', '嶄巗', '巉巖'},\n",
       " {'嬋媛', '蟬媛'},\n",
       " {'猖獗', '猖蹶'},\n",
       " {'倘佯', '彷徉', '徜徉'},\n",
       " {'惝怳', '惝恍'},\n",
       " {'趻踔', '踸踔'},\n",
       " {'蔥蘢', '蘢蔥'},\n",
       " {'嵯峨', '嵳峩'},\n",
       " {'唐突', '樘突', '碭突'},\n",
       " {'燾傲', '燾奡'},\n",
       " {'稠嶅', '稠磝'},\n",
       " {'跌宕', '跌蕩'},\n",
       " {'蹀躞', '躞蹀'},\n",
       " {'猗儺', '猗狔'},\n",
       " {'娜婀', '婀娜'},\n",
       " {'氾瀾', '汎瀾', '泛瀾', '范瀾'},\n",
       " {'仿佛', '彷彿'},\n",
       " {'氛氳', '雰氳'},\n",
       " {'岪鬱', '茀鬱'},\n",
       " {'汩稽', '滑稽'},\n",
       " {'浩汗', '浩瀚', '滈瀚'},\n",
       " {'浩溔', '灝溔', '皓溔'},\n",
       " {'怳惚', '恍惚', '惚怳', '惚恍', '芒忽', '荒忽'},\n",
       " {'昆侖', '渾淪'},\n",
       " {'混沌', '渾沌'},\n",
       " {'嶕嶢', '嶢嶭'},\n",
       " {'摎蓼', '糾蓼'},\n",
       " {'叫條', '窌條'},\n",
       " {'侷促', '局促', '跼蹙'},\n",
       " {'鉏鋙', '齟齬'},\n",
       " {'坎坷', '坎軻', '轗軻'},\n",
       " {'忼慨', '慷慨'},\n",
       " {'崆峒', '空同', '空洞'},\n",
       " {'倥偬', '倥傯'},\n",
       " {'蘭單', '闌單'},\n",
       " {'欄杆', '闌干'},\n",
       " {'藍縷', '藍褸', '襤褸'},\n",
       " {'啷噹', '琅當'},\n",
       " {'壘塊', '磊塊'},\n",
       " {'褵褷', '褷褵'},\n",
       " {'迤邐', '邐迤'},\n",
       " {'戀眷', '眷戀'},\n",
       " {'踉蹌', '踉蹡'},\n",
       " {'寥唳', '寥戾'},\n",
       " {'列缺', '裂缺'},\n",
       " {'璘彬', '瞵彬'},\n",
       " {'蹸轢', '躪轢', '轥轢'},\n",
       " {'苓落', '零落'},\n",
       " {'伶俜', '俜伶'},\n",
       " {'㱥殑', '殑㱥'},\n",
       " {'穹隆', '隆穹'},\n",
       " {'漭漾', '莽漾'},\n",
       " {'涬溟', '溟涬'},\n",
       " {'撓挑', '橈橈'},\n",
       " {'杌隉', '蘖卼', '阢隉'},\n",
       " {'徘徊', '裴徊'},\n",
       " {'媻姍', '媻珊', '蹣跚', '蹣辟', '蹣連'},\n",
       " {'盤薄', '磐礡', '磐薄'},\n",
       " {'磅唐', '磅礴'},\n",
       " {'傍偟', '徬徨'},\n",
       " {'噴薄', '濆礴', '濆薄'},\n",
       " {'俾倪', '埤坭'},\n",
       " {'埤堄', '睥睨'},\n",
       " {'嫖姚', '飄搖'},\n",
       " {'瞟眇', '縹緲'},\n",
       " {'陂阤', '陂陀'},\n",
       " {'婆娑', '媻娑'},\n",
       " {'匍匐', '葡伏', '葡服'},\n",
       " {'戚促', '戚草'},\n",
       " {'岐嶷', '崎嶷'},\n",
       " {'磧歷', '磧礫'},\n",
       " {'芊眠', '芊綿', '芊芊', '阡眠', '阡綿'},\n",
       " {'憔悴', '譙譙'},\n",
       " {'蜷局', '蜷跼'},\n",
       " {'苒荏', '荏苒'},\n",
       " {'容與', '溶與'},\n",
       " {'招搖', '逍遙'},\n",
       " {'倏忽', '儵忽'},\n",
       " {'舑舕', '舔舕'},\n",
       " {'儻朗', '儻閬', '爣朗', '爣閬'},\n",
       " {'町畽', '町疃'},\n",
       " {'岧岧', '岧嵽', '岧嶤', '岹岹', '岹嵽', '岹嶤'},\n",
       " {'曈曈', '曈曚', '曈曨'},\n",
       " {'膧䑃', '膧朧'},\n",
       " {'蜿蜒', '蜿蜿'},\n",
       " {'望洋', '汪洋', '汪漾', '汪翔', '瀇漾', '瀇瀁'},\n",
       " {'萎蕤', '葳蕤'},\n",
       " {'嵬嵬', '巍峨', '巍峩', '巍巍'},\n",
       " {'握齱', '齷齪'},\n",
       " {'嗚乎', '嗚呼', '嗚虖', '烏乎', '烏呼', '烏虖'},\n",
       " {'恓屑', '恓恓', '恓惶'},\n",
       " {'巇險', '險巇'},\n",
       " {'肸肸', '肸蠁'},\n",
       " {'屓奰', '屭奰'},\n",
       " {'浹渫', '渫渫'},\n",
       " {'儴佯', '忀徉', '相羊'},\n",
       " {'瀟灑', '蕭灑'},\n",
       " {'瀟瑟', '蕭瑟'},\n",
       " {'瀟森', '蕭森'},\n",
       " {'瀟率', '蕭率'},\n",
       " {'瀟索', '蕭索'},\n",
       " {'瀟條', '蕭條'},\n",
       " {'皛溔', '皛皛'},\n",
       " {'惺忪', '惺鬆'},\n",
       " {'坱圠', '坱軋'},\n",
       " {'杳眇', '窅眇'},\n",
       " {'䆗窱', '窈窕'},\n",
       " {'幼妙', '幼眇'},\n",
       " {'嶪峨', '嶪峩', '嶪嶪', '嶫峨', '嶫嶫'},\n",
       " {'蘙蔚', '蘙薈'},\n",
       " {'屹崒', '屹崪'},\n",
       " {'慇勤', '慇懃', '殷勤'},\n",
       " {'氤氳', '絪縕', '茵蒀'},\n",
       " {'喁喁', '顒然', '顒顒'},\n",
       " {'優柔', '優游', '優遊'},\n",
       " {'俞俞', '俞然'},\n",
       " {'蔚結', '蔚蔚', '鬱悒', '鬱鬱'},\n",
       " {'迍邅', '邅迍'},\n",
       " {'展轉', '輾轉'},\n",
       " {'征營', '正營'},\n",
       " {'啁啾', '啁噍'},\n",
       " {'侜張', '譸張'},\n",
       " {'灼然', '酌然'},\n",
       " {'岝崿', '岞崿'}]"
      ]
     },
     "execution_count": 12,
     "metadata": {},
     "output_type": "execute_result"
    }
   ],
   "source": [
    "list(s for s in clusters.itersets() if len(s) > 1)"
   ]
  },
  {
   "cell_type": "markdown",
   "id": "c356d106",
   "metadata": {},
   "source": [
    "# how many binomes from parse"
   ]
  },
  {
   "cell_type": "code",
   "execution_count": 8,
   "id": "bedaaa27",
   "metadata": {},
   "outputs": [
    {
     "data": {
      "text/plain": [
       "1116"
      ]
     },
     "execution_count": 8,
     "metadata": {},
     "output_type": "execute_result"
    }
   ],
   "source": [
    "with open('BINOMES_PARSED_LIST.pkl', 'rb') as f:\n",
    "    binomes_parsed_list = pkl.load(f)\n",
    "len(set(binomes_parsed_list))"
   ]
  },
  {
   "cell_type": "code",
   "execution_count": 9,
   "id": "4f1e1cde",
   "metadata": {},
   "outputs": [
    {
     "data": {
      "text/plain": [
       "[('螃蟹', 'pángxiè'),\n",
       " ('呻吟', 'shēnyín'),\n",
       " ('檮杌', 'táowù'),\n",
       " ('崒兀', 'zúwù'),\n",
       " ('岨峿', 'jǔyǔ'),\n",
       " ('蜻蛉', 'qīnglíng'),\n",
       " ('莫錯', 'mòcuò'),\n",
       " ('輧闐', 'piántián'),\n",
       " ('盤薄', 'pánbó'),\n",
       " ('俇攘', 'kuángráng')]"
      ]
     },
     "execution_count": 9,
     "metadata": {},
     "output_type": "execute_result"
    }
   ],
   "source": [
    "list(binomes_parsed_list)[:10]"
   ]
  },
  {
   "cell_type": "markdown",
   "id": "d51c1dd6",
   "metadata": {},
   "source": [
    "# how many nontrivial binomes"
   ]
  },
  {
   "cell_type": "code",
   "execution_count": 10,
   "id": "a76fb174",
   "metadata": {},
   "outputs": [
    {
     "data": {
      "text/plain": [
       "1088"
      ]
     },
     "execution_count": 10,
     "metadata": {},
     "output_type": "execute_result"
    }
   ],
   "source": [
    "binomes_parsed_list_nontrivial = {bn for (bn, pron) in binomes_parsed_list if not (bn[1] == '然' or bn[0] == bn[1])}\n",
    "len(binomes_parsed_list_nontrivial)"
   ]
  },
  {
   "cell_type": "markdown",
   "id": "be17a7eb",
   "metadata": {},
   "source": [
    "# how many binomes from parse up to reversal"
   ]
  },
  {
   "cell_type": "code",
   "execution_count": 11,
   "id": "47e1eff2",
   "metadata": {},
   "outputs": [
    {
     "data": {
      "text/plain": [
       "917"
      ]
     },
     "execution_count": 11,
     "metadata": {},
     "output_type": "execute_result"
    }
   ],
   "source": [
    "_tmp = set()\n",
    "for binome in binomes_parsed_list_nontrivial:\n",
    "    if binome[::-1] not in _tmp:\n",
    "        _tmp.add(binome[0])\n",
    "len(_tmp)"
   ]
  },
  {
   "cell_type": "markdown",
   "id": "13a9d7c7",
   "metadata": {},
   "source": [
    "# how many binome clusters from COMBINED\n",
    "\n",
    "each 'cluster' contains some b1 and b2 such that b1 and b2 are not simply reversals of one another"
   ]
  },
  {
   "cell_type": "code",
   "execution_count": 12,
   "id": "22ab7158",
   "metadata": {},
   "outputs": [],
   "source": [
    "with open('20220428-combined-binome-clusters-FINAL.txt') as f:\n",
    "    combined_binome_clusters = eval(''.join(f.readlines()))\n",
    "\n",
    "combined_binome_clusters = [set(bn for (bn, _, _) in cluster) for cluster in combined_binome_clusters]\n",
    "combined_binome_clusters = [c for c in combined_binome_clusters if len(c) > 1]"
   ]
  },
  {
   "cell_type": "code",
   "execution_count": 13,
   "id": "ae36cece",
   "metadata": {},
   "outputs": [
    {
     "data": {
      "text/plain": [
       "178"
      ]
     },
     "execution_count": 13,
     "metadata": {},
     "output_type": "execute_result"
    }
   ],
   "source": [
    "len(combined_binome_clusters)"
   ]
  },
  {
   "cell_type": "code",
   "execution_count": 14,
   "id": "ae2bc016",
   "metadata": {},
   "outputs": [
    {
     "data": {
      "text/plain": [
       "[{'怳惚', '恍忽', '恍惚', '惚怳', '惚恍', '慌惚', '芒忽', '荒忽'},\n",
       " {'蘺褷', '褵褷', '褷褵', '離褷'},\n",
       " {'葱蘢', '蘢葱'},\n",
       " {'娜婀', '婀娜'},\n",
       " {'岪鬱', '茀鬱', '鬱岪'},\n",
       " {'苴蒪', '蒪苴'},\n",
       " {'斒斕', '斕斑', '斕斒'},\n",
       " {'迤邐', '邐迤'},\n",
       " {'伶俜', '俜伶'},\n",
       " {'㱥殑', '殑㱥'},\n",
       " {'玲瓏', '瓏玲'},\n",
       " {'澒濛', '濛澒'},\n",
       " {'蠓蠛', '蠛蠓'},\n",
       " {'涬溟', '溟涬'},\n",
       " {'莫錯', '錯莫'},\n",
       " {'苒荏', '荏苒'},\n",
       " {'巇險', '險巇'},\n",
       " {'杈枒', '枒杈'},\n",
       " {'迍邅', '邅迍'},\n",
       " {'蔥蘢', '蘢蔥'},\n",
       " {'蹀躞', '躞蹀'},\n",
       " {'戀眷', '眷戀'},\n",
       " {'穹隆', '隆穹'}]"
      ]
     },
     "execution_count": 14,
     "metadata": {},
     "output_type": "execute_result"
    }
   ],
   "source": [
    "[st for st in combined_binome_clusters if any(bn[::-1] in st for bn in st)]"
   ]
  },
  {
   "cell_type": "markdown",
   "id": "dffd8310",
   "metadata": {},
   "source": [
    "# out of binomes with true orthographic variants: how many have a form that occurs at least once in Sinica corpus?"
   ]
  },
  {
   "cell_type": "code",
   "execution_count": 15,
   "id": "d034baae",
   "metadata": {},
   "outputs": [],
   "source": [
    "sinica_occs = pd.read_csv('20220429-binomes-sinica-occs.tsv', sep='\\t')\n",
    "sinica_occs = sinica_occs.fillna(0)\n",
    "\n",
    "def cluster_is_not_simply_reversal(row):\n",
    "    cluster_idx = row.cluster\n",
    "    only_cluster = sinica_occs[sinica_occs.cluster == cluster_idx]\n",
    "    variants = list(set(only_cluster.binome))\n",
    "    if len(variants) == 2 and variants[0] == variants[1][::-1]:\n",
    "        return False\n",
    "    return True"
   ]
  },
  {
   "cell_type": "code",
   "execution_count": 16,
   "id": "dc960b37",
   "metadata": {},
   "outputs": [
    {
     "name": "stdout",
     "output_type": "stream",
     "text": [
      "num binome clusters with true orthographic variants\n",
      "159\n"
     ]
    }
   ],
   "source": [
    "print('num binome clusters with true orthographic variants')\n",
    "sinica_occs = sinica_occs[sinica_occs.apply(cluster_is_not_simply_reversal, axis=1)]\n",
    "print(len(set(sinica_occs.cluster)))"
   ]
  },
  {
   "cell_type": "code",
   "execution_count": 17,
   "id": "bdec802b",
   "metadata": {},
   "outputs": [],
   "source": [
    "def cluster_has_at_least_one_form_in_sinica(row):\n",
    "    cluster_idx = row.cluster\n",
    "    only_cluster = sinica_occs[sinica_occs.cluster == cluster_idx]\n",
    "    n_occs = [0 if np.isnan(n) else int(n) for n in list(only_cluster.sinica_n_occs)]\n",
    "    return sum(n_occs) > 0"
   ]
  },
  {
   "cell_type": "code",
   "execution_count": 18,
   "id": "57eee3d8",
   "metadata": {},
   "outputs": [
    {
     "data": {
      "text/plain": [
       "80"
      ]
     },
     "execution_count": 18,
     "metadata": {},
     "output_type": "execute_result"
    }
   ],
   "source": [
    "sinica_occs_in_sinica = sinica_occs[sinica_occs.apply(cluster_has_at_least_one_form_in_sinica, axis=1)]\n",
    "len(set(sinica_occs_in_sinica.cluster))"
   ]
  },
  {
   "cell_type": "code",
   "execution_count": 19,
   "id": "1d9405cc",
   "metadata": {
    "scrolled": true
   },
   "outputs": [
    {
     "data": {
      "text/html": [
       "<div>\n",
       "<style scoped>\n",
       "    .dataframe tbody tr th:only-of-type {\n",
       "        vertical-align: middle;\n",
       "    }\n",
       "\n",
       "    .dataframe tbody tr th {\n",
       "        vertical-align: top;\n",
       "    }\n",
       "\n",
       "    .dataframe thead th {\n",
       "        text-align: right;\n",
       "    }\n",
       "</style>\n",
       "<table border=\"1\" class=\"dataframe\">\n",
       "  <thead>\n",
       "    <tr style=\"text-align: right;\">\n",
       "      <th></th>\n",
       "      <th>cluster</th>\n",
       "      <th>binome</th>\n",
       "      <th>sinica_n_occs</th>\n",
       "    </tr>\n",
       "  </thead>\n",
       "  <tbody>\n",
       "    <tr>\n",
       "      <th>412</th>\n",
       "      <td>168</td>\n",
       "      <td>蕭索</td>\n",
       "      <td>7.0</td>\n",
       "    </tr>\n",
       "    <tr>\n",
       "      <th>413</th>\n",
       "      <td>169</td>\n",
       "      <td>蕭條</td>\n",
       "      <td>81.0</td>\n",
       "    </tr>\n",
       "    <tr>\n",
       "      <th>414</th>\n",
       "      <td>169</td>\n",
       "      <td>瀟條</td>\n",
       "      <td>0.0</td>\n",
       "    </tr>\n",
       "    <tr>\n",
       "      <th>426</th>\n",
       "      <td>175</td>\n",
       "      <td>輾轉</td>\n",
       "      <td>85.0</td>\n",
       "    </tr>\n",
       "    <tr>\n",
       "      <th>427</th>\n",
       "      <td>175</td>\n",
       "      <td>展轉</td>\n",
       "      <td>1.0</td>\n",
       "    </tr>\n",
       "  </tbody>\n",
       "</table>\n",
       "</div>"
      ],
      "text/plain": [
       "     cluster binome  sinica_n_occs\n",
       "412      168     蕭索            7.0\n",
       "413      169     蕭條           81.0\n",
       "414      169     瀟條            0.0\n",
       "426      175     輾轉           85.0\n",
       "427      175     展轉            1.0"
      ]
     },
     "execution_count": 19,
     "metadata": {},
     "output_type": "execute_result"
    }
   ],
   "source": [
    "sinica_occs_in_sinica.tail()"
   ]
  },
  {
   "cell_type": "code",
   "execution_count": 20,
   "id": "16ba7d7f",
   "metadata": {},
   "outputs": [
    {
     "ename": "NameError",
     "evalue": "name 'sinica_occs_in_sinica_mix' is not defined",
     "output_type": "error",
     "traceback": [
      "\u001b[0;31m---------------------------------------------------------------------------\u001b[0m",
      "\u001b[0;31mNameError\u001b[0m                                 Traceback (most recent call last)",
      "Input \u001b[0;32mIn [20]\u001b[0m, in \u001b[0;36m<module>\u001b[0;34m\u001b[0m\n\u001b[0;32m----> 1\u001b[0m \u001b[38;5;28;01mfor\u001b[39;00m i \u001b[38;5;129;01min\u001b[39;00m \u001b[38;5;28mset\u001b[39m(\u001b[43msinica_occs_in_sinica_mix\u001b[49m\u001b[38;5;241m.\u001b[39mcluster):\n\u001b[1;32m      2\u001b[0m     cluster \u001b[38;5;241m=\u001b[39m sinica_occs_in_sinica_mix[sinica_occs_in_sinica_mix\u001b[38;5;241m.\u001b[39mcluster \u001b[38;5;241m==\u001b[39m i]\n",
      "\u001b[0;31mNameError\u001b[0m: name 'sinica_occs_in_sinica_mix' is not defined"
     ]
    }
   ],
   "source": [
    "for i in set(sinica_occs_in_sinica_mix.cluster):\n",
    "    cluster = sinica_occs_in_sinica_mix[sinica_occs_in_sinica_mix.cluster == i]"
   ]
  },
  {
   "cell_type": "markdown",
   "id": "5934c0ca",
   "metadata": {},
   "source": [
    "# out of these, how many only have shared radicals"
   ]
  },
  {
   "cell_type": "code",
   "execution_count": 21,
   "id": "5c5d713d",
   "metadata": {},
   "outputs": [],
   "source": [
    "from database import load_database, Node"
   ]
  },
  {
   "cell_type": "code",
   "execution_count": 22,
   "id": "dcd3bfcb",
   "metadata": {},
   "outputs": [],
   "source": [
    "db = load_database()"
   ]
  },
  {
   "cell_type": "code",
   "execution_count": 23,
   "id": "9e489c74",
   "metadata": {},
   "outputs": [],
   "source": [
    "def have_shared_radical(c1, c2):\n",
    "    if not db[c1] or not db[c2]: #atmomic\n",
    "        return False\n",
    "    c1_first_comp_child = db[c1][0][1]\n",
    "    c1_grandchildren = c1_first_comp_child.children\n",
    "    c1_g_first = c1_grandchildren[0]\n",
    "    c1_g_last = c1_grandchildren[-1]\n",
    "    \n",
    "    c2_first_comp_child = db[c2][0][1]\n",
    "    c2_grandchildren = c2_first_comp_child.children\n",
    "    c2_g_first = c2_grandchildren[0]\n",
    "    c2_g_last = c2_grandchildren[-1]\n",
    "    \n",
    "#     firsts are glyphs and match, or lasts are glyphs and match\n",
    "    first_are_chars_and_match = (c1_g_first.type_ == c2_g_first.type_ == 'char' and \n",
    "                                 c1_g_first.glyph == c2_g_first.glyph)\n",
    "    last_are_chars_and_match = (c1_g_last.type_ == c2_g_last.type_ == 'char' and \n",
    "                                 c1_g_last.glyph == c2_g_last.glyph)\n",
    "    return first_are_chars_and_match or last_are_chars_and_match"
   ]
  },
  {
   "cell_type": "code",
   "execution_count": 24,
   "id": "174adccc",
   "metadata": {},
   "outputs": [],
   "source": [
    "def binome_has_shared_radical(bn):\n",
    "    return have_shared_radical(bn[0], bn[1])"
   ]
  },
  {
   "cell_type": "code",
   "execution_count": 25,
   "id": "cfe1f0c1",
   "metadata": {},
   "outputs": [],
   "source": [
    "def cluster_has_only_shared_radical(row):\n",
    "    cluster_idx = row.cluster\n",
    "    only_cluster = sinica_occs_in_sinica[sinica_occs_in_sinica.cluster == cluster_idx]\n",
    "    return all(binome_has_shared_radical(bn) for bn in only_cluster.binome)"
   ]
  },
  {
   "cell_type": "code",
   "execution_count": 26,
   "id": "f0a54c97",
   "metadata": {},
   "outputs": [],
   "source": [
    "sinica_occs_in_sinica_only_shared_radical = (\n",
    "    sinica_occs_in_sinica[sinica_occs_in_sinica.apply(cluster_has_only_shared_radical, axis=1)])"
   ]
  },
  {
   "cell_type": "code",
   "execution_count": 27,
   "id": "6bfefede",
   "metadata": {},
   "outputs": [
    {
     "name": "stdout",
     "output_type": "stream",
     "text": [
      "number of clusters whose members only contain those with shared radicals\n"
     ]
    },
    {
     "data": {
      "text/plain": [
       "25"
      ]
     },
     "execution_count": 27,
     "metadata": {},
     "output_type": "execute_result"
    }
   ],
   "source": [
    "print('number of clusters whose members only contain those with shared radicals')\n",
    "len(set(sinica_occs_in_sinica_only_shared_radical.cluster))"
   ]
  },
  {
   "cell_type": "markdown",
   "id": "9e04cad8",
   "metadata": {},
   "source": [
    "# out of these, how many do not have any forms with shared radicals"
   ]
  },
  {
   "cell_type": "code",
   "execution_count": 17,
   "id": "87d7b785",
   "metadata": {},
   "outputs": [],
   "source": [
    "def cluster_has_no_forms_with_shared_radical(row):\n",
    "    cluster_idx = row.cluster\n",
    "    only_cluster = sinica_occs_in_sinica[sinica_occs_in_sinica.cluster == cluster_idx]\n",
    "    return all(not binome_has_shared_radical(bn) for bn in only_cluster.binome)"
   ]
  },
  {
   "cell_type": "code",
   "execution_count": 29,
   "id": "3574d9d0",
   "metadata": {},
   "outputs": [
    {
     "name": "stdout",
     "output_type": "stream",
     "text": [
      "number of clusters whose members do not contain those with shared radicals\n"
     ]
    },
    {
     "data": {
      "text/plain": [
       "16"
      ]
     },
     "execution_count": 29,
     "metadata": {},
     "output_type": "execute_result"
    }
   ],
   "source": [
    "sinica_occs_sinica_no_shared_radical = (\n",
    "    sinica_occs_in_sinica[sinica_occs_in_sinica.apply(cluster_has_no_forms_with_shared_radical, axis=1)]\n",
    ")\n",
    "print('number of clusters whose members do not contain those with shared radicals')\n",
    "len(set(sinica_occs_sinica_no_shared_radical.cluster))"
   ]
  },
  {
   "cell_type": "markdown",
   "id": "5d95068c",
   "metadata": {},
   "source": [
    "# how many clusters have a mix of the two"
   ]
  },
  {
   "cell_type": "code",
   "execution_count": 18,
   "id": "8fddee27",
   "metadata": {},
   "outputs": [],
   "source": [
    "def cluster_has_mix(row):\n",
    "    cluster_idx = row.cluster\n",
    "    return ((cluster_idx not in set(sinica_occs_sinica_no_shared_radical.cluster)) and\n",
    "            (cluster_idx not in set(sinica_occs_in_sinica_only_shared_radical.cluster)))"
   ]
  },
  {
   "cell_type": "code",
   "execution_count": 31,
   "id": "55947db2",
   "metadata": {},
   "outputs": [
    {
     "data": {
      "text/plain": [
       "39"
      ]
     },
     "execution_count": 31,
     "metadata": {},
     "output_type": "execute_result"
    }
   ],
   "source": [
    "sinica_occs_in_sinica_mix = sinica_occs_in_sinica[sinica_occs_in_sinica.apply(cluster_has_mix, axis=1)]\n",
    "len(set(sinica_occs_in_sinica_mix.cluster))"
   ]
  },
  {
   "cell_type": "code",
   "execution_count": 32,
   "id": "055b7a9b",
   "metadata": {},
   "outputs": [
    {
     "data": {
      "text/html": [
       "<div>\n",
       "<style scoped>\n",
       "    .dataframe tbody tr th:only-of-type {\n",
       "        vertical-align: middle;\n",
       "    }\n",
       "\n",
       "    .dataframe tbody tr th {\n",
       "        vertical-align: top;\n",
       "    }\n",
       "\n",
       "    .dataframe thead th {\n",
       "        text-align: right;\n",
       "    }\n",
       "</style>\n",
       "<table border=\"1\" class=\"dataframe\">\n",
       "  <thead>\n",
       "    <tr style=\"text-align: right;\">\n",
       "      <th></th>\n",
       "      <th>cluster</th>\n",
       "      <th>binome</th>\n",
       "      <th>sinica_n_occs</th>\n",
       "    </tr>\n",
       "  </thead>\n",
       "  <tbody>\n",
       "    <tr>\n",
       "      <th>273</th>\n",
       "      <td>109</td>\n",
       "      <td>憔萃</td>\n",
       "      <td>0.0</td>\n",
       "    </tr>\n",
       "    <tr>\n",
       "      <th>274</th>\n",
       "      <td>109</td>\n",
       "      <td>蕉萃</td>\n",
       "      <td>0.0</td>\n",
       "    </tr>\n",
       "    <tr>\n",
       "      <th>275</th>\n",
       "      <td>109</td>\n",
       "      <td>憔顇</td>\n",
       "      <td>0.0</td>\n",
       "    </tr>\n",
       "    <tr>\n",
       "      <th>281</th>\n",
       "      <td>112</td>\n",
       "      <td>葡桃</td>\n",
       "      <td>0.0</td>\n",
       "    </tr>\n",
       "    <tr>\n",
       "      <th>282</th>\n",
       "      <td>112</td>\n",
       "      <td>葡萄</td>\n",
       "      <td>104.0</td>\n",
       "    </tr>\n",
       "    <tr>\n",
       "      <th>336</th>\n",
       "      <td>136</td>\n",
       "      <td>跼蹙</td>\n",
       "      <td>0.0</td>\n",
       "    </tr>\n",
       "    <tr>\n",
       "      <th>337</th>\n",
       "      <td>136</td>\n",
       "      <td>局促</td>\n",
       "      <td>2.0</td>\n",
       "    </tr>\n",
       "    <tr>\n",
       "      <th>338</th>\n",
       "      <td>136</td>\n",
       "      <td>侷促</td>\n",
       "      <td>14.0</td>\n",
       "    </tr>\n",
       "    <tr>\n",
       "      <th>341</th>\n",
       "      <td>138</td>\n",
       "      <td>空洞</td>\n",
       "      <td>79.0</td>\n",
       "    </tr>\n",
       "    <tr>\n",
       "      <th>342</th>\n",
       "      <td>138</td>\n",
       "      <td>空同</td>\n",
       "      <td>0.0</td>\n",
       "    </tr>\n",
       "    <tr>\n",
       "      <th>343</th>\n",
       "      <td>138</td>\n",
       "      <td>崆峒</td>\n",
       "      <td>0.0</td>\n",
       "    </tr>\n",
       "    <tr>\n",
       "      <th>348</th>\n",
       "      <td>141</td>\n",
       "      <td>闌干</td>\n",
       "      <td>1.0</td>\n",
       "    </tr>\n",
       "    <tr>\n",
       "      <th>349</th>\n",
       "      <td>141</td>\n",
       "      <td>欄杆</td>\n",
       "      <td>51.0</td>\n",
       "    </tr>\n",
       "    <tr>\n",
       "      <th>350</th>\n",
       "      <td>142</td>\n",
       "      <td>啷噹</td>\n",
       "      <td>2.0</td>\n",
       "    </tr>\n",
       "    <tr>\n",
       "      <th>351</th>\n",
       "      <td>142</td>\n",
       "      <td>琅當</td>\n",
       "      <td>0.0</td>\n",
       "    </tr>\n",
       "    <tr>\n",
       "      <th>369</th>\n",
       "      <td>151</td>\n",
       "      <td>磅礡</td>\n",
       "      <td>20.0</td>\n",
       "    </tr>\n",
       "    <tr>\n",
       "      <th>370</th>\n",
       "      <td>151</td>\n",
       "      <td>磅唐</td>\n",
       "      <td>0.0</td>\n",
       "    </tr>\n",
       "    <tr>\n",
       "      <th>371</th>\n",
       "      <td>151</td>\n",
       "      <td>磅礴</td>\n",
       "      <td>0.0</td>\n",
       "    </tr>\n",
       "    <tr>\n",
       "      <th>375</th>\n",
       "      <td>153</td>\n",
       "      <td>嫖姚</td>\n",
       "      <td>0.0</td>\n",
       "    </tr>\n",
       "    <tr>\n",
       "      <th>376</th>\n",
       "      <td>153</td>\n",
       "      <td>飄搖</td>\n",
       "      <td>14.0</td>\n",
       "    </tr>\n",
       "    <tr>\n",
       "      <th>395</th>\n",
       "      <td>162</td>\n",
       "      <td>嗚乎</td>\n",
       "      <td>0.0</td>\n",
       "    </tr>\n",
       "    <tr>\n",
       "      <th>396</th>\n",
       "      <td>162</td>\n",
       "      <td>烏呼</td>\n",
       "      <td>0.0</td>\n",
       "    </tr>\n",
       "    <tr>\n",
       "      <th>397</th>\n",
       "      <td>162</td>\n",
       "      <td>嗚虖</td>\n",
       "      <td>0.0</td>\n",
       "    </tr>\n",
       "    <tr>\n",
       "      <th>398</th>\n",
       "      <td>162</td>\n",
       "      <td>嗚呼</td>\n",
       "      <td>3.0</td>\n",
       "    </tr>\n",
       "    <tr>\n",
       "      <th>399</th>\n",
       "      <td>162</td>\n",
       "      <td>烏虖</td>\n",
       "      <td>0.0</td>\n",
       "    </tr>\n",
       "    <tr>\n",
       "      <th>400</th>\n",
       "      <td>162</td>\n",
       "      <td>烏乎</td>\n",
       "      <td>0.0</td>\n",
       "    </tr>\n",
       "    <tr>\n",
       "      <th>403</th>\n",
       "      <td>164</td>\n",
       "      <td>瀟灑</td>\n",
       "      <td>73.0</td>\n",
       "    </tr>\n",
       "    <tr>\n",
       "      <th>404</th>\n",
       "      <td>164</td>\n",
       "      <td>蕭灑</td>\n",
       "      <td>0.0</td>\n",
       "    </tr>\n",
       "    <tr>\n",
       "      <th>426</th>\n",
       "      <td>175</td>\n",
       "      <td>輾轉</td>\n",
       "      <td>85.0</td>\n",
       "    </tr>\n",
       "    <tr>\n",
       "      <th>427</th>\n",
       "      <td>175</td>\n",
       "      <td>展轉</td>\n",
       "      <td>1.0</td>\n",
       "    </tr>\n",
       "  </tbody>\n",
       "</table>\n",
       "</div>"
      ],
      "text/plain": [
       "     cluster binome  sinica_n_occs\n",
       "273      109     憔萃            0.0\n",
       "274      109     蕉萃            0.0\n",
       "275      109     憔顇            0.0\n",
       "281      112     葡桃            0.0\n",
       "282      112     葡萄          104.0\n",
       "336      136     跼蹙            0.0\n",
       "337      136     局促            2.0\n",
       "338      136     侷促           14.0\n",
       "341      138     空洞           79.0\n",
       "342      138     空同            0.0\n",
       "343      138     崆峒            0.0\n",
       "348      141     闌干            1.0\n",
       "349      141     欄杆           51.0\n",
       "350      142     啷噹            2.0\n",
       "351      142     琅當            0.0\n",
       "369      151     磅礡           20.0\n",
       "370      151     磅唐            0.0\n",
       "371      151     磅礴            0.0\n",
       "375      153     嫖姚            0.0\n",
       "376      153     飄搖           14.0\n",
       "395      162     嗚乎            0.0\n",
       "396      162     烏呼            0.0\n",
       "397      162     嗚虖            0.0\n",
       "398      162     嗚呼            3.0\n",
       "399      162     烏虖            0.0\n",
       "400      162     烏乎            0.0\n",
       "403      164     瀟灑           73.0\n",
       "404      164     蕭灑            0.0\n",
       "426      175     輾轉           85.0\n",
       "427      175     展轉            1.0"
      ]
     },
     "execution_count": 32,
     "metadata": {},
     "output_type": "execute_result"
    }
   ],
   "source": [
    "sinica_occs_in_sinica_mix.tail(30)"
   ]
  },
  {
   "cell_type": "code",
   "execution_count": 33,
   "id": "5e60c879",
   "metadata": {},
   "outputs": [
    {
     "data": {
      "text/plain": [
       "([('⿵門柬', <Node '⿵' with 2 children>)], [('⿱一十', <Node '⿱' with 2 children>)])"
      ]
     },
     "execution_count": 33,
     "metadata": {},
     "output_type": "execute_result"
    }
   ],
   "source": [
    "db['闌'], db['干']"
   ]
  },
  {
   "cell_type": "code",
   "execution_count": 34,
   "id": "90d12dfa",
   "metadata": {},
   "outputs": [
    {
     "name": "stderr",
     "output_type": "stream",
     "text": [
      "/tmp/ipykernel_236482/660638893.py:1: SettingWithCopyWarning: \n",
      "A value is trying to be set on a copy of a slice from a DataFrame.\n",
      "Try using .loc[row_indexer,col_indexer] = value instead\n",
      "\n",
      "See the caveats in the documentation: https://pandas.pydata.org/pandas-docs/stable/user_guide/indexing.html#returning-a-view-versus-a-copy\n",
      "  sinica_occs_in_sinica_mix['shared_radical'] = sinica_occs_in_sinica.binome.apply(binome_has_shared_radical)\n"
     ]
    }
   ],
   "source": [
    "sinica_occs_in_sinica_mix['shared_radical'] = sinica_occs_in_sinica.binome.apply(binome_has_shared_radical)"
   ]
  },
  {
   "cell_type": "code",
   "execution_count": 35,
   "id": "a580e91c",
   "metadata": {},
   "outputs": [],
   "source": [
    "sinica_occs_in_sinica_mix.to_csv('tmp_sinica_occs_in_sinica_mix.tsv', sep='\\t')"
   ]
  },
  {
   "cell_type": "code",
   "execution_count": 36,
   "id": "6ca08c44",
   "metadata": {},
   "outputs": [
    {
     "data": {
      "text/html": [
       "<div>\n",
       "<style scoped>\n",
       "    .dataframe tbody tr th:only-of-type {\n",
       "        vertical-align: middle;\n",
       "    }\n",
       "\n",
       "    .dataframe tbody tr th {\n",
       "        vertical-align: top;\n",
       "    }\n",
       "\n",
       "    .dataframe thead th {\n",
       "        text-align: right;\n",
       "    }\n",
       "</style>\n",
       "<table border=\"1\" class=\"dataframe\">\n",
       "  <thead>\n",
       "    <tr style=\"text-align: right;\">\n",
       "      <th></th>\n",
       "      <th>cluster</th>\n",
       "      <th>binome</th>\n",
       "      <th>sinica_n_occs</th>\n",
       "      <th>shared_radical</th>\n",
       "    </tr>\n",
       "  </thead>\n",
       "  <tbody>\n",
       "    <tr>\n",
       "      <th>0</th>\n",
       "      <td>0</td>\n",
       "      <td>埤坭</td>\n",
       "      <td>0.0</td>\n",
       "      <td>True</td>\n",
       "    </tr>\n",
       "    <tr>\n",
       "      <th>1</th>\n",
       "      <td>0</td>\n",
       "      <td>睥睨</td>\n",
       "      <td>9.0</td>\n",
       "      <td>True</td>\n",
       "    </tr>\n",
       "    <tr>\n",
       "      <th>2</th>\n",
       "      <td>0</td>\n",
       "      <td>俾睨</td>\n",
       "      <td>0.0</td>\n",
       "      <td>False</td>\n",
       "    </tr>\n",
       "    <tr>\n",
       "      <th>3</th>\n",
       "      <td>0</td>\n",
       "      <td>俾倪</td>\n",
       "      <td>0.0</td>\n",
       "      <td>True</td>\n",
       "    </tr>\n",
       "    <tr>\n",
       "      <th>4</th>\n",
       "      <td>0</td>\n",
       "      <td>埤堄</td>\n",
       "      <td>0.0</td>\n",
       "      <td>True</td>\n",
       "    </tr>\n",
       "    <tr>\n",
       "      <th>...</th>\n",
       "      <td>...</td>\n",
       "      <td>...</td>\n",
       "      <td>...</td>\n",
       "      <td>...</td>\n",
       "    </tr>\n",
       "    <tr>\n",
       "      <th>400</th>\n",
       "      <td>162</td>\n",
       "      <td>烏乎</td>\n",
       "      <td>0.0</td>\n",
       "      <td>False</td>\n",
       "    </tr>\n",
       "    <tr>\n",
       "      <th>403</th>\n",
       "      <td>164</td>\n",
       "      <td>瀟灑</td>\n",
       "      <td>73.0</td>\n",
       "      <td>True</td>\n",
       "    </tr>\n",
       "    <tr>\n",
       "      <th>404</th>\n",
       "      <td>164</td>\n",
       "      <td>蕭灑</td>\n",
       "      <td>0.0</td>\n",
       "      <td>False</td>\n",
       "    </tr>\n",
       "    <tr>\n",
       "      <th>426</th>\n",
       "      <td>175</td>\n",
       "      <td>輾轉</td>\n",
       "      <td>85.0</td>\n",
       "      <td>True</td>\n",
       "    </tr>\n",
       "    <tr>\n",
       "      <th>427</th>\n",
       "      <td>175</td>\n",
       "      <td>展轉</td>\n",
       "      <td>1.0</td>\n",
       "      <td>False</td>\n",
       "    </tr>\n",
       "  </tbody>\n",
       "</table>\n",
       "<p>122 rows × 4 columns</p>\n",
       "</div>"
      ],
      "text/plain": [
       "     cluster binome  sinica_n_occs  shared_radical\n",
       "0          0     埤坭            0.0            True\n",
       "1          0     睥睨            9.0            True\n",
       "2          0     俾睨            0.0           False\n",
       "3          0     俾倪            0.0            True\n",
       "4          0     埤堄            0.0            True\n",
       "..       ...    ...            ...             ...\n",
       "400      162     烏乎            0.0           False\n",
       "403      164     瀟灑           73.0            True\n",
       "404      164     蕭灑            0.0           False\n",
       "426      175     輾轉           85.0            True\n",
       "427      175     展轉            1.0           False\n",
       "\n",
       "[122 rows x 4 columns]"
      ]
     },
     "execution_count": 36,
     "metadata": {},
     "output_type": "execute_result"
    }
   ],
   "source": [
    "sinica_occs_in_sinica_mix"
   ]
  },
  {
   "cell_type": "code",
   "execution_count": 41,
   "id": "465b575e",
   "metadata": {},
   "outputs": [
    {
     "name": "stdout",
     "output_type": "stream",
     "text": [
      "out of 39 binomes, 7 of them are such that the more common form in sinica is the one with non-matching radicals\n"
     ]
    }
   ],
   "source": [
    "print(f'out of 39 binomes, 7 of them are such that the more common form in sinica is the one with non-matching radicals')"
   ]
  },
  {
   "cell_type": "code",
   "execution_count": 84,
   "id": "f6cf3110",
   "metadata": {},
   "outputs": [
    {
     "name": "stdout",
     "output_type": "stream",
     "text": [
      "1\n",
      "2\n",
      "3\n",
      "4\n",
      "5\n",
      "6\n",
      "7\n",
      "8\n",
      "9\n",
      "10\n",
      "11\n",
      "12\n",
      "13\n",
      "14\n",
      "15\n",
      "16\n",
      "17\n",
      "18\n",
      "19\n",
      "20\n",
      "21\n",
      "22\n",
      "23\n",
      "24\n",
      "25\n",
      "26\n"
     ]
    }
   ],
   "source": [
    "k = 1\n",
    "pct_shared_radical_dict = dict()\n",
    "for cluster_idx in set(sinica_occs_in_sinica_mix.cluster):\n",
    "    cluster_df = sinica_occs_in_sinica_mix[sinica_occs_in_sinica_mix.cluster == cluster_idx]\n",
    "    most_row = cluster_df.iloc[np.argmax(cluster_df.sinica_n_occs)]\n",
    "    if most_row.shared_radical == True:\n",
    "        num = most_row.sinica_n_occs\n",
    "        den = sum(cluster_df.sinica_n_occs)\n",
    "        pct_shared_radical_dict[cluster_idx] = num / den\n",
    "        if list(cluster_df.sinica_n_occs).count(0) == len(cluster_df) - 1:\n",
    "            print(k)\n",
    "            k += 1"
   ]
  },
  {
   "cell_type": "code",
   "execution_count": 69,
   "id": "4ab8eefb",
   "metadata": {},
   "outputs": [
    {
     "data": {
      "text/plain": [
       "0.9925192191886458"
      ]
     },
     "execution_count": 69,
     "metadata": {},
     "output_type": "execute_result"
    }
   ],
   "source": [
    "np.mean(list(pct_shared_radical_dict.values()))"
   ]
  },
  {
   "cell_type": "code",
   "execution_count": 48,
   "id": "39862a85",
   "metadata": {},
   "outputs": [],
   "source": [
    "good_binome_cluster_idxs = set()\n",
    "for cluster_idx in set(sinica_occs_in_sinica_mix.cluster):\n",
    "    cluster_slice = sinica_occs_in_sinica_mix[sinica_occs_in_sinica_mix.cluster == cluster_idx]\n",
    "    argmax_row = cluster_slice.iloc[np.argmax(cluster_slice.sinica_n_occs)]\n",
    "    if argmax_row.shared_radical:\n",
    "        good_binome_cluster_idxs.add(cluster_idx)"
   ]
  },
  {
   "cell_type": "code",
   "execution_count": 52,
   "id": "da3ddee3",
   "metadata": {},
   "outputs": [
    {
     "data": {
      "text/html": [
       "<div>\n",
       "<style scoped>\n",
       "    .dataframe tbody tr th:only-of-type {\n",
       "        vertical-align: middle;\n",
       "    }\n",
       "\n",
       "    .dataframe tbody tr th {\n",
       "        vertical-align: top;\n",
       "    }\n",
       "\n",
       "    .dataframe thead th {\n",
       "        text-align: right;\n",
       "    }\n",
       "</style>\n",
       "<table border=\"1\" class=\"dataframe\">\n",
       "  <thead>\n",
       "    <tr style=\"text-align: right;\">\n",
       "      <th></th>\n",
       "      <th>cluster</th>\n",
       "      <th>binome</th>\n",
       "      <th>sinica_n_occs</th>\n",
       "      <th>shared_radical</th>\n",
       "    </tr>\n",
       "  </thead>\n",
       "  <tbody>\n",
       "    <tr>\n",
       "      <th>0</th>\n",
       "      <td>0</td>\n",
       "      <td>埤坭</td>\n",
       "      <td>0.0</td>\n",
       "      <td>True</td>\n",
       "    </tr>\n",
       "    <tr>\n",
       "      <th>1</th>\n",
       "      <td>0</td>\n",
       "      <td>睥睨</td>\n",
       "      <td>9.0</td>\n",
       "      <td>True</td>\n",
       "    </tr>\n",
       "    <tr>\n",
       "      <th>2</th>\n",
       "      <td>0</td>\n",
       "      <td>俾睨</td>\n",
       "      <td>0.0</td>\n",
       "      <td>False</td>\n",
       "    </tr>\n",
       "    <tr>\n",
       "      <th>3</th>\n",
       "      <td>0</td>\n",
       "      <td>俾倪</td>\n",
       "      <td>0.0</td>\n",
       "      <td>True</td>\n",
       "    </tr>\n",
       "    <tr>\n",
       "      <th>4</th>\n",
       "      <td>0</td>\n",
       "      <td>埤堄</td>\n",
       "      <td>0.0</td>\n",
       "      <td>True</td>\n",
       "    </tr>\n",
       "    <tr>\n",
       "      <th>...</th>\n",
       "      <td>...</td>\n",
       "      <td>...</td>\n",
       "      <td>...</td>\n",
       "      <td>...</td>\n",
       "    </tr>\n",
       "    <tr>\n",
       "      <th>400</th>\n",
       "      <td>162</td>\n",
       "      <td>烏乎</td>\n",
       "      <td>0.0</td>\n",
       "      <td>False</td>\n",
       "    </tr>\n",
       "    <tr>\n",
       "      <th>403</th>\n",
       "      <td>164</td>\n",
       "      <td>瀟灑</td>\n",
       "      <td>73.0</td>\n",
       "      <td>True</td>\n",
       "    </tr>\n",
       "    <tr>\n",
       "      <th>404</th>\n",
       "      <td>164</td>\n",
       "      <td>蕭灑</td>\n",
       "      <td>0.0</td>\n",
       "      <td>False</td>\n",
       "    </tr>\n",
       "    <tr>\n",
       "      <th>426</th>\n",
       "      <td>175</td>\n",
       "      <td>輾轉</td>\n",
       "      <td>85.0</td>\n",
       "      <td>True</td>\n",
       "    </tr>\n",
       "    <tr>\n",
       "      <th>427</th>\n",
       "      <td>175</td>\n",
       "      <td>展轉</td>\n",
       "      <td>1.0</td>\n",
       "      <td>False</td>\n",
       "    </tr>\n",
       "  </tbody>\n",
       "</table>\n",
       "<p>122 rows × 4 columns</p>\n",
       "</div>"
      ],
      "text/plain": [
       "     cluster binome  sinica_n_occs  shared_radical\n",
       "0          0     埤坭            0.0            True\n",
       "1          0     睥睨            9.0            True\n",
       "2          0     俾睨            0.0           False\n",
       "3          0     俾倪            0.0            True\n",
       "4          0     埤堄            0.0            True\n",
       "..       ...    ...            ...             ...\n",
       "400      162     烏乎            0.0           False\n",
       "403      164     瀟灑           73.0            True\n",
       "404      164     蕭灑            0.0           False\n",
       "426      175     輾轉           85.0            True\n",
       "427      175     展轉            1.0           False\n",
       "\n",
       "[122 rows x 4 columns]"
      ]
     },
     "execution_count": 52,
     "metadata": {},
     "output_type": "execute_result"
    }
   ],
   "source": [
    "sinica_occs_in_sinica_mix"
   ]
  },
  {
   "cell_type": "code",
   "execution_count": 60,
   "id": "5560da1b",
   "metadata": {},
   "outputs": [],
   "source": [
    "to_export = sinica_occs_in_sinica_mix[sinica_occs_in_sinica_mix.apply(lambda row: row.cluster in good_binome_cluster_idxs, axis=1)]\n",
    "to_export.to_csv('20220522_for_appendix_b.tsv', sep='\\t', index=False)"
   ]
  },
  {
   "cell_type": "code",
   "execution_count": 38,
   "id": "b4bfac16",
   "metadata": {},
   "outputs": [
    {
     "data": {
      "text/plain": [
       "cluster              32\n",
       "binome               徘徊\n",
       "sinica_n_occs     108.0\n",
       "shared_radical     True\n",
       "Name: 97, dtype: object"
      ]
     },
     "execution_count": 38,
     "metadata": {},
     "output_type": "execute_result"
    }
   ],
   "source": [
    "sinica_occs_in_sinica_mix.iloc[np.argmax(sinica_occs_in_sinica_mix.sinica_n_occs)]"
   ]
  },
  {
   "cell_type": "markdown",
   "id": "e64b9434",
   "metadata": {},
   "source": [
    "# in general, out of combined nontrivial binomes (reversals count as a single binome), how many have shared radicals?"
   ]
  },
  {
   "cell_type": "code",
   "execution_count": 42,
   "id": "4c5ce87b",
   "metadata": {},
   "outputs": [
    {
     "data": {
      "text/plain": [
       "1335"
      ]
     },
     "execution_count": 42,
     "metadata": {},
     "output_type": "execute_result"
    }
   ],
   "source": [
    "combined_nontrivial_binome_list = binomes_parsed_list_nontrivial | all_nontrivial_chideod_binomes\n",
    "len(combined_nontrivial_binome_list)"
   ]
  },
  {
   "cell_type": "code",
   "execution_count": 43,
   "id": "ba0b1bfa",
   "metadata": {},
   "outputs": [
    {
     "name": "stdout",
     "output_type": "stream",
     "text": [
      "counting reversals once:\n"
     ]
    },
    {
     "data": {
      "text/plain": [
       "1305"
      ]
     },
     "execution_count": 43,
     "metadata": {},
     "output_type": "execute_result"
    }
   ],
   "source": [
    "print('counting reversals once:')\n",
    "_tmp = set()\n",
    "for bn in combined_nontrivial_binome_list:\n",
    "    if bn[::-1] not in _tmp:\n",
    "        _tmp.add(bn)\n",
    "len(_tmp)"
   ]
  },
  {
   "cell_type": "code",
   "execution_count": 275,
   "id": "6fe67929",
   "metadata": {},
   "outputs": [
    {
     "data": {
      "text/plain": [
       "680"
      ]
     },
     "execution_count": 275,
     "metadata": {},
     "output_type": "execute_result"
    }
   ],
   "source": [
    "len({bn for bn in _tmp if binome_has_shared_radical(bn)})"
   ]
  },
  {
   "cell_type": "code",
   "execution_count": 27,
   "id": "0612333a",
   "metadata": {},
   "outputs": [
    {
     "data": {
      "text/plain": [
       "389"
      ]
     },
     "execution_count": 27,
     "metadata": {},
     "output_type": "execute_result"
    }
   ],
   "source": [
    "contains_at_one_matching_form = 0\n",
    "for s in clusters.itersets():\n",
    "    if any(binome_has_shared_radical(bn) for bn in s):\n",
    "        contains_at_one_matching_form += 1\n",
    "contains_at_one_matching_form"
   ]
  },
  {
   "cell_type": "code",
   "execution_count": 15,
   "id": "7c7f6e79",
   "metadata": {},
   "outputs": [
    {
     "data": {
      "text/plain": [
       "748"
      ]
     },
     "execution_count": 15,
     "metadata": {},
     "output_type": "execute_result"
    }
   ],
   "source": [
    "len(list(clusters.itersets()))"
   ]
  },
  {
   "cell_type": "code",
   "execution_count": null,
   "id": "4f68d481",
   "metadata": {},
   "outputs": [],
   "source": []
  },
  {
   "cell_type": "code",
   "execution_count": null,
   "id": "90554ca4",
   "metadata": {},
   "outputs": [],
   "source": []
  },
  {
   "cell_type": "code",
   "execution_count": null,
   "id": "59b910cf",
   "metadata": {},
   "outputs": [],
   "source": []
  },
  {
   "cell_type": "code",
   "execution_count": null,
   "id": "a3e55d5e",
   "metadata": {},
   "outputs": [],
   "source": []
  },
  {
   "cell_type": "code",
   "execution_count": null,
   "id": "6b661d67",
   "metadata": {},
   "outputs": [],
   "source": []
  },
  {
   "cell_type": "code",
   "execution_count": null,
   "id": "98ad32ec",
   "metadata": {},
   "outputs": [],
   "source": []
  },
  {
   "cell_type": "code",
   "execution_count": null,
   "id": "c91de37c",
   "metadata": {},
   "outputs": [],
   "source": []
  },
  {
   "cell_type": "code",
   "execution_count": null,
   "id": "4a3be4a3",
   "metadata": {},
   "outputs": [],
   "source": []
  },
  {
   "cell_type": "code",
   "execution_count": null,
   "id": "bf179b2b",
   "metadata": {},
   "outputs": [],
   "source": []
  },
  {
   "cell_type": "code",
   "execution_count": null,
   "id": "c00267f2",
   "metadata": {},
   "outputs": [],
   "source": []
  },
  {
   "cell_type": "code",
   "execution_count": null,
   "id": "7b55787b",
   "metadata": {},
   "outputs": [],
   "source": []
  },
  {
   "cell_type": "code",
   "execution_count": null,
   "id": "63a613af",
   "metadata": {},
   "outputs": [],
   "source": []
  },
  {
   "cell_type": "code",
   "execution_count": null,
   "id": "e750ad2c",
   "metadata": {},
   "outputs": [],
   "source": []
  },
  {
   "cell_type": "code",
   "execution_count": null,
   "id": "090f5465",
   "metadata": {},
   "outputs": [],
   "source": []
  },
  {
   "cell_type": "code",
   "execution_count": null,
   "id": "1daeb00c",
   "metadata": {},
   "outputs": [],
   "source": []
  },
  {
   "cell_type": "code",
   "execution_count": null,
   "id": "b5785c31",
   "metadata": {},
   "outputs": [],
   "source": []
  },
  {
   "cell_type": "code",
   "execution_count": null,
   "id": "e74d3448",
   "metadata": {},
   "outputs": [],
   "source": []
  },
  {
   "cell_type": "code",
   "execution_count": null,
   "id": "215e0df9",
   "metadata": {},
   "outputs": [],
   "source": []
  },
  {
   "cell_type": "code",
   "execution_count": null,
   "id": "0401ba01",
   "metadata": {},
   "outputs": [],
   "source": []
  },
  {
   "cell_type": "code",
   "execution_count": null,
   "id": "6dee49c7",
   "metadata": {},
   "outputs": [],
   "source": []
  },
  {
   "cell_type": "code",
   "execution_count": null,
   "id": "8ef84ba7",
   "metadata": {},
   "outputs": [],
   "source": []
  },
  {
   "cell_type": "code",
   "execution_count": null,
   "id": "d45e7fa9",
   "metadata": {},
   "outputs": [],
   "source": []
  },
  {
   "cell_type": "code",
   "execution_count": null,
   "id": "5604b4f4",
   "metadata": {},
   "outputs": [],
   "source": []
  },
  {
   "cell_type": "code",
   "execution_count": null,
   "id": "09cab5e6",
   "metadata": {},
   "outputs": [],
   "source": []
  },
  {
   "cell_type": "code",
   "execution_count": null,
   "id": "99efcb1c",
   "metadata": {},
   "outputs": [],
   "source": []
  }
 ],
 "metadata": {
  "kernelspec": {
   "display_name": "Python 3 (ipykernel)",
   "language": "python",
   "name": "python3"
  },
  "language_info": {
   "codemirror_mode": {
    "name": "ipython",
    "version": 3
   },
   "file_extension": ".py",
   "mimetype": "text/x-python",
   "name": "python",
   "nbconvert_exporter": "python",
   "pygments_lexer": "ipython3",
   "version": "3.10.4"
  }
 },
 "nbformat": 4,
 "nbformat_minor": 5
}
