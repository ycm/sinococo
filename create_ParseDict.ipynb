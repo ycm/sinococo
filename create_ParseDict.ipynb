{
 "cells": [
  {
   "cell_type": "code",
   "execution_count": 4,
   "id": "535d7eca",
   "metadata": {},
   "outputs": [],
   "source": [
    "import json\n",
    "from collections import defaultdict"
   ]
  },
  {
   "cell_type": "code",
   "execution_count": 5,
   "id": "c16ede7a",
   "metadata": {},
   "outputs": [],
   "source": [
    "with open('CHAR_TO_IDS_FULL_UNIFIED.json') as f:\n",
    "    char_to_ids = json.load(f)\n",
    "with open('char_to_alts.json') as f:\n",
    "    char_to_alts = defaultdict(list, json.load(f))"
   ]
  },
  {
   "cell_type": "code",
   "execution_count": 55,
   "id": "7a792f82",
   "metadata": {},
   "outputs": [],
   "source": [
    "char_to_ids['䆗'] = ['⿱穴叫']\n",
    "char_to_ids['㵝'] = ['⿰氵裔']\n",
    "char_to_ids['䨴'] = ['⿱雨對']\n",
    "\n",
    "more_char = ['㕉',\n",
    " '㛂',\n",
    " '㛹',\n",
    " '㝗',\n",
    " '㝩',\n",
    " '㟅',\n",
    " '㩻',\n",
    " '㯓',\n",
    " '㱥',\n",
    " '㲪',\n",
    " '㺄',\n",
    " '㺒',\n",
    " '䑃',\n",
    " '䔿',\n",
    " '䗊',\n",
    " '䚧',\n",
    " '䥈',\n",
    " '䧢',\n",
    " '䧱',\n",
    " '䱭',\n",
    " '䲛',\n",
    " '䴀',\n",
    " '䴊',\n",
    " '䴌',\n",
    " '𣶏']\n",
    "more_comp = [\n",
    "    '⿸厂合',\n",
    "    '⿰女𠂬',\n",
    "    '⿰女便',\n",
    "    '⿱宀良',\n",
    "    '⿱宀康',\n",
    "    '⿰山兇',\n",
    "    '⿰危支',\n",
    "    '⿰木翕',\n",
    "    '⿰歹夌',\n",
    "    '⿰登毛',\n",
    "    '⿰犭俞',\n",
    "    '⿰犭翏',\n",
    "    '⿰月蒙',\n",
    "    '⿱艹尊',\n",
    "    '⿰虫炎',\n",
    "    '⿰角翏',\n",
    "    '⿰釒莽',\n",
    "    '⿰阝區',\n",
    "    '⿰九隹',\n",
    "    '⿰魚恆',\n",
    "    '⿰魚瞢',\n",
    "    '⿰童鳥',\n",
    "    '⿰義鳥',\n",
    "    '⿰鳥蒙',\n",
    "    '⿰氵疌'\n",
    "]"
   ]
  },
  {
   "cell_type": "code",
   "execution_count": 56,
   "id": "a1ead41d",
   "metadata": {},
   "outputs": [],
   "source": [
    "for (a,b) in zip(more_char,more_comp):\n",
    "    char_to_ids[a] = [b]"
   ]
  },
  {
   "cell_type": "code",
   "execution_count": 57,
   "id": "5b9c69a5",
   "metadata": {},
   "outputs": [],
   "source": [
    "alts = sum(char_to_alts.values(), [])\n",
    "alt_to_standard = {\n",
    "    alt: [c for c, a in char_to_alts.items() if alt in a][0]\n",
    "    for alt in alts\n",
    "}\n",
    "def standardize(s, k):\n",
    "    out = ''\n",
    "    for c in s:\n",
    "        if c in alt_to_standard:\n",
    "            out += alt_to_standard[c]\n",
    "        else:\n",
    "            out += c\n",
    "    return out"
   ]
  },
  {
   "cell_type": "code",
   "execution_count": 58,
   "id": "14c146d3",
   "metadata": {},
   "outputs": [],
   "source": [
    "char_to_ids = {\n",
    "    k: [standardize(vv, k) for vv in v]\n",
    "    for k, v in char_to_ids.items()\n",
    "}"
   ]
  },
  {
   "cell_type": "code",
   "execution_count": 59,
   "id": "c0d1730a",
   "metadata": {},
   "outputs": [],
   "source": [
    "comp_to_n_children = {\n",
    "    '⿰':2,\n",
    "    '⿱':2,\n",
    "    '⿲':3,\n",
    "    '⿳':3,\n",
    "    '⿴':2,\n",
    "    '⿵':2,\n",
    "    '⿶':2,\n",
    "    '⿷':2,\n",
    "    '⿸':2,\n",
    "    '⿹':2,\n",
    "    '⿺':2,\n",
    "    '⿻':2\n",
    "}"
   ]
  },
  {
   "cell_type": "code",
   "execution_count": 60,
   "id": "9cbe618f",
   "metadata": {},
   "outputs": [],
   "source": [
    "class Node:\n",
    "    def __init__(self, glyph, type_):\n",
    "        self.glyph = glyph\n",
    "        self.type_ = type_\n",
    "        self.parent = None\n",
    "        self.children = []\n",
    "    def __repr__(self):\n",
    "        return f\"<Node '{self.glyph}' with {len(self.children)} children>\""
   ]
  },
  {
   "cell_type": "code",
   "execution_count": 61,
   "id": "b2c3ee56",
   "metadata": {
    "scrolled": false
   },
   "outputs": [],
   "source": [
    "def recurse(parent, n_children, leftover):\n",
    "    for _ in range(n_children):\n",
    "#                 curr = next(leftover)\n",
    "        curr = leftover[0]\n",
    "        leftover = leftover[1:]\n",
    "        type_ = 'comp' if curr in comp_to_n_children else 'char'\n",
    "        curr_node = Node(curr, type_)\n",
    "        curr_node.parent = parent\n",
    "        parent.children.append(curr_node)\n",
    "        if type_ == 'char':\n",
    "            pass\n",
    "        else:\n",
    "            n_grandchildren = comp_to_n_children[curr]\n",
    "            recurse(curr_node, n_grandchildren, leftover=leftover)\n",
    "            \n",
    "# char = '夒'\n",
    "# parses = set(char_to_ids[char])\n",
    "# for parse in parses:\n",
    "#     if not parse:\n",
    "#         continue\n",
    "#     n_children = comp_to_n_children[parse[0]]\n",
    "#     leftover = (c for c in parse[1:])\n",
    "#     root = Node(parse[0], 'comp')\n",
    "#     recurse(parent=root, n_children=n_children)"
   ]
  },
  {
   "cell_type": "code",
   "execution_count": 62,
   "id": "dfd5ed8a",
   "metadata": {},
   "outputs": [
    {
     "name": "stdout",
     "output_type": "stream",
     "text": [
      "malformed input at: 𠄏 了 ['了']\n",
      "malformed input at: 𠄔 予 ['予']\n",
      "malformed input at: 𠄷 ⿱⿲𠔼 ['⿱⿲𠔼']\n",
      "malformed input at: 𠑻 ⿳亠儿 ['⿳亠儿']\n",
      "malformed input at: 𠦂 ⿻十 ['⿻十']\n",
      "malformed input at: 𠨰 ⿸厂⿻乚 ['⿸厂⿻乚']\n",
      "malformed input at: 𡆢 ⿴囗 ['⿴囗']\n",
      "malformed input at: 𡖈 ⿱⿴丨⿴丨 ['⿱⿴丨⿴丨']\n",
      "malformed input at: 𡦹 ⿱丶⿵𠘨 ['⿱丶⿵𠘨']\n",
      "malformed input at: 𡧑 ⿳宀大 ['⿳宀大']\n",
      "malformed input at: 𡰣 ⿱丿 ['⿱丿']\n",
      "malformed input at: 𡿦 巛 ['巛']\n",
      "malformed input at: 𢀑 ⿻丅 ['⿷工𠃍', '⿻丅']\n",
      "malformed input at: 𢀓 ⿻工 ['⿻工']\n",
      "malformed input at: 𢀖 ⿱工 ['⿱工']\n",
      "malformed input at: 𣥄 正 ['正']\n",
      "malformed input at: 𤔔 ⿳爪龴⿵冂⿱厶 ['⿳爪龴⿵冂⿱厶', '⿳爪龴⿵冂⿱厶又']\n",
      "malformed input at: 𥸧 米⿰丁 ['米⿰丁']\n",
      "malformed input at: 𦉭 ⿻儿⿹𠃊 ['⿻儿⿹𠃊']\n",
      "malformed input at: 𦱉 ⿱艸 ['⿱艸']\n",
      "malformed input at: 𧩶 ⿰言 ['⿰言']\n",
      "malformed input at: 𧭹 ⿱言 ['⿱言']\n",
      "malformed input at: 𨙨 邑 ['邑']\n",
      "malformed input at: 𨸏 ⿱丿⿰丨⿳ ['⿱丿⿰丨⿳']\n",
      "malformed input at: 𩻝 ⿰魚 ['⿰魚']\n",
      "malformed input at: 𩼁 ⿰魚 ['⿰魚']\n",
      "malformed input at: 𩼧 ⿰魚 ['⿰魚']\n",
      "malformed input at: 𪛄 ⿳㽞𠮥⿰𢑑⿺乚⿰丨 ['⿳㽞𠮥⿰𢑑⿺乚⿰丨']\n"
     ]
    }
   ],
   "source": [
    "ParseDict = dict()\n",
    "\n",
    "for char, parses in char_to_ids.items():\n",
    "#     if char != '㐔':\n",
    "#         continue\n",
    "    ParseDict[char] = []\n",
    "    for parse_string in set(parses):\n",
    "        try:\n",
    "            n_children = comp_to_n_children[parse_string[0]]\n",
    "            leftover = parse_string[1:]\n",
    "            root = Node(parse_string[0], 'comp')\n",
    "            recurse(parent=root, n_children=n_children, leftover=leftover)\n",
    "            ParseDict[char].append((parse_string, root))\n",
    "        except:\n",
    "            print('malformed input at:', char, parse_string, parses)"
   ]
  },
  {
   "cell_type": "code",
   "execution_count": 63,
   "id": "0f0d5b70",
   "metadata": {},
   "outputs": [],
   "source": [
    "import pickle as pkl\n",
    "\n",
    "with open('data/database.pkl', 'wb') as f:\n",
    "    pkl.dump(ParseDict, f)"
   ]
  },
  {
   "cell_type": "code",
   "execution_count": 64,
   "id": "04f230b2",
   "metadata": {},
   "outputs": [],
   "source": [
    "from database import load_database"
   ]
  },
  {
   "cell_type": "code",
   "execution_count": 65,
   "id": "db7ac83e",
   "metadata": {},
   "outputs": [],
   "source": [
    "db = load_database()"
   ]
  },
  {
   "cell_type": "code",
   "execution_count": 66,
   "id": "7064b140",
   "metadata": {},
   "outputs": [
    {
     "data": {
      "text/plain": [
       "[('⿱穴叫', <Node '⿱' with 2 children>)]"
      ]
     },
     "execution_count": 66,
     "metadata": {},
     "output_type": "execute_result"
    }
   ],
   "source": [
    "db['䆗']"
   ]
  },
  {
   "cell_type": "code",
   "execution_count": 67,
   "id": "6c62ed45",
   "metadata": {},
   "outputs": [
    {
     "data": {
      "text/plain": [
       "[('⿰水裔', <Node '⿰' with 2 children>)]"
      ]
     },
     "execution_count": 67,
     "metadata": {},
     "output_type": "execute_result"
    }
   ],
   "source": [
    "db['㵝']"
   ]
  },
  {
   "cell_type": "code",
   "execution_count": null,
   "id": "8a682841",
   "metadata": {},
   "outputs": [],
   "source": []
  }
 ],
 "metadata": {
  "kernelspec": {
   "display_name": "Python 3 (ipykernel)",
   "language": "python",
   "name": "python3"
  },
  "language_info": {
   "codemirror_mode": {
    "name": "ipython",
    "version": 3
   },
   "file_extension": ".py",
   "mimetype": "text/x-python",
   "name": "python",
   "nbconvert_exporter": "python",
   "pygments_lexer": "ipython3",
   "version": "3.10.4"
  }
 },
 "nbformat": 4,
 "nbformat_minor": 5
}
