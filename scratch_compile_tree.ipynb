{
 "cells": [
  {
   "cell_type": "code",
   "execution_count": 1,
   "id": "3bb13658",
   "metadata": {},
   "outputs": [],
   "source": [
    "import re\n",
    "import xml.etree.ElementTree as ET"
   ]
  },
  {
   "cell_type": "code",
   "execution_count": 2,
   "id": "10a7a164",
   "metadata": {},
   "outputs": [],
   "source": [
    "DESC = set('⿰\t⿱\t⿲\t⿳\t⿴\t⿵\t⿶\t⿷\t⿸\t⿹\t⿺\t⿻'.split())"
   ]
  },
  {
   "cell_type": "code",
   "execution_count": 3,
   "id": "8fafb86e",
   "metadata": {},
   "outputs": [],
   "source": [
    "RE_CJK = re.compile(r'[\\u4e00-\\u9fff]+')\n",
    "RE_braces = re.compile(r'{[^}]*}|[^{}]+')"
   ]
  },
  {
   "cell_type": "code",
   "execution_count": 4,
   "id": "04da6834",
   "metadata": {},
   "outputs": [],
   "source": [
    "cjk_ranges = [\n",
    "        ( 0x4E00,  0x62FF),\n",
    "        ( 0x6300,  0x77FF),\n",
    "        ( 0x7800,  0x8CFF),\n",
    "        ( 0x8D00,  0x9FCC),\n",
    "        ( 0x3400,  0x4DB5),\n",
    "        (0x20000, 0x215FF),\n",
    "        (0x21600, 0x230FF),\n",
    "        (0x23100, 0x245FF),\n",
    "        (0x24600, 0x260FF),\n",
    "        (0x26100, 0x275FF),\n",
    "        (0x27600, 0x290FF),\n",
    "        (0x29100, 0x2A6DF),\n",
    "        (0x2A700, 0x2B734),\n",
    "        (0x2B740, 0x2B81D),\n",
    "        (0x2B820, 0x2CEAF),\n",
    "        (0x2CEB0, 0x2EBEF),\n",
    "        (0x2F800, 0x2FA1F)\n",
    "    ]\n",
    "\n",
    "def is_cjk(char):\n",
    "    char = ord(char)\n",
    "    for bottom, top in cjk_ranges:\n",
    "        if char >= bottom and char <= top:\n",
    "            return True\n",
    "    return False"
   ]
  },
  {
   "cell_type": "code",
   "execution_count": 5,
   "id": "0c2aa413",
   "metadata": {},
   "outputs": [
    {
     "name": "stdout",
     "output_type": "stream",
     "text": [
      "21203 success, 97 failures; iter=2496155"
     ]
    }
   ],
   "source": [
    "ct = 1\n",
    "ct_ = 0\n",
    "\n",
    "curr_iter = 1\n",
    "MAX_ITER = 2500000\n",
    "\n",
    "bad_chars = []\n",
    "char_to_desc = {}\n",
    "\n",
    "text = None\n",
    "\n",
    "context = ET.iterparse('enwiktionary-20220101-pages-meta-current.xml')\n",
    "event, root = next(context)\n",
    "\n",
    "for _, elem in context:\n",
    "    if curr_iter > MAX_ITER:\n",
    "        break\n",
    "    curr_iter += 1\n",
    "#     print(f'\\riter={curr_iter}', end='')\n",
    "    \n",
    "    if 'page' in elem.tag:\n",
    "        \n",
    "        title = [x for x in elem.getchildren() if 'title' in x.tag][0].text\n",
    "        \n",
    "        if title and len(title) == 1 and is_cjk(title):\n",
    "            character = title\n",
    "            rev = elem.find('{http://www.mediawiki.org/xml/export-0.10/}revision')\n",
    "            if rev:\n",
    "                text = rev.find('{http://www.mediawiki.org/xml/export-0.10/}text').text\n",
    "                text = text.replace('\\n', '')\n",
    "                ids = [line for line in re.findall(RE_braces, text) if (set(line) & DESC)]\n",
    "                \n",
    "                if ids:\n",
    "                    char_to_desc[character] = ids\n",
    "                    print(f'\\r{ct} success, {ct_} failures; iter={curr_iter}', end='')\n",
    "                    ct += 1\n",
    "                    \n",
    "                else:\n",
    "                    bad_chars.append(character)\n",
    "                    ct_ += 1\n",
    "                    root.clear()\n",
    "                    continue\n",
    "            \n",
    "            else:\n",
    "                bad_chars.append(character)\n",
    "                ct_ += 1\n",
    "                root.clear()\n",
    "                continue\n",
    "    \n",
    "    root.clear()"
   ]
  },
  {
   "cell_type": "code",
   "execution_count": 10,
   "id": "9db0c5aa",
   "metadata": {},
   "outputs": [],
   "source": [
    "import json\n",
    "\n",
    "with open('raw_01.json', 'w') as f:\n",
    "    json.dump(char_to_desc, f)\n",
    "\n",
    "with open('bad_01.json', 'w') as f:\n",
    "    json.dump(bad_chars, f)"
   ]
  }
 ],
 "metadata": {
  "kernelspec": {
   "display_name": "Python 3",
   "language": "python",
   "name": "python3"
  },
  "language_info": {
   "codemirror_mode": {
    "name": "ipython",
    "version": 3
   },
   "file_extension": ".py",
   "mimetype": "text/x-python",
   "name": "python",
   "nbconvert_exporter": "python",
   "pygments_lexer": "ipython3",
   "version": "3.6.13"
  }
 },
 "nbformat": 4,
 "nbformat_minor": 5
}
