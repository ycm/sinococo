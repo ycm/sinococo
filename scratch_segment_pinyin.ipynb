{
 "cells": [
  {
   "cell_type": "code",
   "execution_count": 32,
   "id": "d10e4fe4",
   "metadata": {},
   "outputs": [],
   "source": [
    "import pickle as pkl\n",
    "from disjoint_set import DisjointSet\n",
    "with open('BINOMES_PARSED_LIST.pkl', 'rb') as f:\n",
    "    binomes_and_prons = pkl.load(f)\n",
    "with open('BINOMES_PARSED_SAME_DS.pkl', 'rb') as f:\n",
    "    same_binomes_ds = pkl.load(f)"
   ]
  },
  {
   "cell_type": "code",
   "execution_count": 33,
   "id": "24f6c01e",
   "metadata": {},
   "outputs": [],
   "source": [
    "import unicodedata as unic"
   ]
  },
  {
   "cell_type": "code",
   "execution_count": 34,
   "id": "aa1963b8",
   "metadata": {},
   "outputs": [],
   "source": [
    "pinyins = {bp[1] for bp in binomes_and_prons}"
   ]
  },
  {
   "cell_type": "code",
   "execution_count": 35,
   "id": "e0021c95",
   "metadata": {},
   "outputs": [],
   "source": [
    "pinyins = set()\n",
    "with open('pinyin_table.csv') as f:\n",
    "    for line in f:\n",
    "        ln = [entry for entry in line.strip().split(',') if entry]\n",
    "        for entry in ln:\n",
    "            pinyins.add(unic.normalize('NFC', ''.join([c for c in entry if c.isalpha()])))\n",
    "pinyins.add('er')"
   ]
  },
  {
   "cell_type": "code",
   "execution_count": 36,
   "id": "2bcdca81",
   "metadata": {
    "scrolled": true
   },
   "outputs": [
    {
     "data": {
      "text/plain": [
       "410"
      ]
     },
     "execution_count": 36,
     "metadata": {},
     "output_type": "execute_result"
    }
   ],
   "source": [
    "len(pinyins)"
   ]
  },
  {
   "cell_type": "code",
   "execution_count": 37,
   "id": "556d4aa2",
   "metadata": {},
   "outputs": [
    {
     "name": "stdout",
     "output_type": "stream",
     "text": [
      "117\n",
      "776\n"
     ]
    }
   ],
   "source": [
    "for i in unic.normalize('NFD', 'ü'): print(ord(i))"
   ]
  },
  {
   "cell_type": "code",
   "execution_count": 48,
   "id": "01366a52",
   "metadata": {},
   "outputs": [
    {
     "name": "stdout",
     "output_type": "stream",
     "text": [
      "鸜鵒 qu\n",
      "忀徉 or\n"
     ]
    }
   ],
   "source": [
    "for binome, pron in binomes_and_prons:\n",
    "    assert \"`\" not in pron\n",
    "    if \"'\" in pron:\n",
    "        pron_seg = pron.split(\"'\")\n",
    "    elif \"’\" in pron:\n",
    "        pron_seg = pron.split('’')\n",
    "    else:\n",
    "        pron_NFD = unic.normalize('NFD', pron)\n",
    "        pron_no_tones = ''.join([c for c in pron_NFD if ord(c) < 128 or ord(c) == 776])\n",
    "        pron_no_tones = unic.normalize('NFC', pron_no_tones)\n",
    "        valid_splits = []\n",
    "        for i in range(1, len(pron_no_tones)):\n",
    "            if pron_no_tones[:i] in pinyins and pron_no_tones[i:] in pinyins:\n",
    "                valid_splits.append((pron[:i], pron[i:]))\n",
    "        if len(valid_splits) != 1:\n",
    "            print(binome, pron_no_tones)\n",
    "            continue\n",
    "        \n",
    "        c1, c2 = valid_splits[0]\n",
    "        \n",
    "        order_1 = c1 + c2\n",
    "        order_2 = c2 + c1\n",
    "        \n",
    "        for (b, p) in {(_b, _p) for (_b, _p) in binomes_and_prons if (_p == order_1 or _p == order_2)}:\n",
    "            same_binomes_ds.union((binome, pron), (b, p))"
   ]
  },
  {
   "cell_type": "code",
   "execution_count": 49,
   "id": "5dc82b4d",
   "metadata": {},
   "outputs": [
    {
     "name": "stdout",
     "output_type": "stream",
     "text": [
      "{('埤堄', 'pìnì'), ('睥睨', 'pìnì'), ('俾倪', 'pìnì'), ('埤坭', 'pìnì'), ('俾睨', 'pìnì')}\n",
      "{('薜荔', 'bìlì'), ('篳篥', 'bìlì'), ('觱篥', 'bìlì')}\n",
      "{('鶬鶊', 'cānggēng'), ('倉庚', 'cānggēng')}\n",
      "{('孱顏', 'chányán'), ('嶄巖', 'chányán'), ('巉巖', 'chányán')}\n",
      "{('硨磲', 'jūqú'), ('車渠', 'jūqú')}\n",
      "{('岨峿', 'jǔyǔ'), ('鉏鋙', 'jǔyǔ'), ('齟齬', 'jǔyǔ')}\n",
      "{('蹢躅', 'zhízhú'), ('躑躅', 'zhízhú')}\n",
      "{('毒冒', 'dàimào'), ('瑇瑁', 'dàimào')}\n",
      "{('彷彿', 'fǎngfú'), ('仿佛', 'fǎngfú')}\n",
      "{('彷徨', 'pánghuáng'), ('房皇', 'pánghuáng'), ('徬徨', 'pánghuáng'), ('仿偟', 'pánghuáng'), ('傍偟', 'pánghuáng')}\n",
      "{('氤氳', 'yīnyūn'), ('烟熅', 'yīnyūn'), ('絪縕', 'yīnyūn'), ('葐蒀', 'fényūn'), ('茵蒀', 'yīnyūn')}\n",
      "{('蒲伏', 'púfú'), ('扶伏', 'púfú'), ('蒲服', 'púfú'), ('匍匐', 'púfú')}\n",
      "{('浩汗', 'hàohàn'), ('滈汗', 'hàohàn')}\n",
      "{('港洞', 'hòngdòng'), ('虹洞', 'hòngdòng'), ('澒洞', 'hòngdòng')}\n",
      "{('恍惚', 'huǎnghū'), ('怳惚', 'huǎnghū'), ('惚恍', 'hūhuǎng'), ('慌惚', 'huǎnghū'), ('忽荒', 'hūhuāng'), ('芒忽', 'huǎnghū'), ('荒忽', 'huānghū'), ('惚怳', 'hūhuǎng'), ('恍忽', 'huǎnghū')}\n",
      "{('邂逅', 'xièhòu'), ('迦逅', 'xièhòu')}\n",
      "{('糾蓼', 'jiǎoliǎo'), ('摎蓼', 'jiūliǔ'), ('糾蓼', 'jiūliǔ')}\n",
      "{('君遷', 'jūnqiān'), ('桾櫏', 'jūnqiān')}\n",
      "{('轗軻', 'kǎnkě'), ('坎坷', 'kǎnkě')}\n",
      "{('崑崙', 'kūnlún'), ('昆侖', 'kūnlún')}\n",
      "{('昆侖', 'húnlún'), ('渾淪', 'húnlún')}\n",
      "{('昆吾', 'kūnwú'), ('琨珸', 'kūnwú')}\n",
      "{('襤縷', 'lánlǚ'), ('藍縷', 'lánlǚ'), ('襤褸', 'lánlǚ')}\n",
      "{('蘺褷', 'líshī'), ('褷褵', 'shīlí'), ('離褷', 'líshī'), ('褵褷', 'líshī')}\n",
      "{('零落', 'língluò'), ('苓落', 'língluò')}\n",
      "{('瑪瑙', \"mǎ'nǎo\"), ('馬腦', \"mǎ'nǎo\")}\n",
      "{('僶勉', 'mǐnmiǎn'), ('閔勉', 'mǐnmiǎn'), ('僶俛', 'mǐnmiǎn')}\n",
      "{('酩酊', 'mǐngdǐng'), ('茗艼', 'míngtīng')}\n",
      "{('兜鍪', 'dōumóu'), ('兠鍪', 'dōumóu'), ('兠鞪', 'dōumóu')}\n",
      "{('椅柅', 'yǐnǐ'), ('猗狔', 'yǐnǐ'), ('旖旎', 'yǐnǐ')}\n",
      "{('阢隉', 'wùniè'), ('臲卼', 'nièwù'), ('杌隉', 'wùniè')}\n",
      "{('婆娑', 'pósuō'), ('媻娑', 'pósuō')}\n",
      "{('炰烋', 'páoxiāo'), ('咆哮', 'páoxiāo')}\n",
      "{('徘徊', 'páihuái'), ('裴徊', 'péihuái')}\n",
      "{('僛丑', 'qīchǒu'), ('魌丑', 'qīchǒu')}\n",
      "{('蕖蒢', 'qúchú'), ('籧篨', 'qúchú'), ('蘧蒢', 'qúchú')}\n",
      "{('軥錄', 'qúlù'), ('劬錄', 'qúlù')}\n",
      "{('鸜鵒', 'qúyù'), ('鴝鵒', 'qúyù')}\n",
      "{('蕠蘆', 'rúlú'), ('茹蘆', 'rúlú')}\n",
      "{('舑舕', 'tāntàn'), ('舔舕', 'tiǎntàn')}\n",
      "{('樘突', 'tángtū'), ('唐突', 'tángtū')}\n",
      "{('姚冶', 'yáoyě'), ('窕冶', 'yáoyě')}\n",
      "{('滂陀', 'pāngtuó'), ('滂沱', 'pāngtuó'), ('滂陁', 'pāngtuó')}\n",
      "{('汪漾', 'wāngyàng'), ('瀇漾', 'wǎngyàng')}\n",
      "{('罔閬', 'wǎngliǎng'), ('魍魎', 'wǎngliǎng')}\n",
      "{('齷齱', 'wòchuò'), ('握齱', 'wòchuò')}\n",
      "{('纖趨', 'xiānqū'), ('孅趨', 'qiānqū')}\n",
      "{('䆗窱', 'yǎotiǎo'), ('窈窕', 'yǎotiǎo')}\n",
      "{('慇勤', 'yīnqín'), ('殷勤', 'yīnqín'), ('慇懃', 'yīnqín')}\n",
      "{('逍遙', 'xiāoyáo'), ('招搖', 'sháoyáo')}\n",
      "{('侜張', 'zhōuzhāng'), ('譸張', 'zhōuzhāng'), ('輈張', 'zhōuzhāng')}\n",
      "{('侏儒', 'zhūrú'), ('朱儒', 'zhūrú')}\n",
      "{('倉猝', 'cāngcù'), ('倉卒', 'cāngcù')}\n",
      "{('蟕蠵', 'zuīxī'), ('觜蠵', 'zīxī')}\n",
      "{('蒼黃', 'cānghuáng'), ('倉皇', 'cānghuáng'), ('倉煌', 'cānghuáng')}\n",
      "{('蠆介', 'chàijiè'), ('蠆芥', 'chàijiè')}\n",
      "{('蟬聯', 'chánlián'), ('蟬連', 'chánlián')}\n",
      "{('猖蹶', 'chāngjué'), ('猖獗', 'chāngjué')}\n",
      "{('葱蘢', 'cōnglǒng'), ('蘢葱', 'lǒngcōng')}\n",
      "{('跌宕', 'diēdàng'), ('跌蕩', 'diēdàng')}\n",
      "{('娥皇', 'éhuáng'), ('娥媓', 'éhuáng')}\n",
      "{('岪鬱', 'fúyù'), ('茀鬱', 'fúyù'), ('鬱岪', 'yùfú'), ('怫鬱', 'fúyù')}\n",
      "{('芙蓉', 'fúróng'), ('芙蕖', 'fúqú')}\n",
      "{('顄淡', 'hàndàn'), ('菡萏', 'hàndàn')}\n",
      "{('鈷鉧', 'gǔmǔ'), ('鈷䥈', 'gǔmǔ')}\n",
      "{('蒪苴', 'pòjū'), ('苴蒪', 'jūpò')}\n",
      "{('豆蔻', 'dòukòu'), ('荳蔻', 'dòukòu')}\n",
      "{('豆', 'dòu'), ('荳', 'dòu')}\n",
      "{('斕斒', 'lánbān'), ('斕斑', 'lánbān'), ('斒斕', 'bānlán')}\n",
      "{('桄榔', 'guāngláng'), ('桄桹', 'guāngláng')}\n",
      "{('爣閬', 'tǎnglǎng'), ('爣朗', 'tǎnglǎng'), ('儻朗', 'tǎnglǎng'), ('儻閬', 'tǎnglǎng')}\n",
      "{('荔支', 'lìzhī'), ('荔枝', 'lìzhī')}\n",
      "{('邐迤', 'lǐyǐ'), ('迤邐', 'yǐlǐ')}\n",
      "{('踉蹡', 'liàngqiāng'), ('踉蹌', 'liàngqiāng')}\n",
      "{('伶俜', 'língpīng'), ('俜伶', 'pīnglíng')}\n",
      "{('㱥殑', 'língqíng'), ('殑㱥', 'qínglíng')}\n",
      "{('沙鰡', 'shāliù'), ('紗鰡', 'shāliù')}\n",
      "{('瓏玲', 'lónglíng'), ('玲瓏', 'línglóng')}\n",
      "{('蘿艻', 'luólè'), ('蘿勒', 'luólè')}\n",
      "{('蛤蟆', 'hámá'), ('蝦蟆', 'hámá')}\n",
      "{('濛澒', 'ménghòng'), ('澒濛', 'hòngméng')}\n",
      "{('艨艟', 'méngchōng'), ('艨衝', 'méngchōng')}\n",
      "{('蠛蠓', 'mièměng'), ('蠓蠛', 'měngmiè')}\n",
      "{('涬溟', 'xìngmǐng'), ('溟涬', 'mǐngxìng')}\n",
      "{('錯莫', 'cuòmò'), ('莫錯', 'mòcuò')}\n",
      "{('滂湃', 'pēngpài'), ('澎湃', 'pēngpài'), ('淜湃', 'pēngpài')}\n",
      "{('叛換', 'pànhuàn'), ('判換', 'pànhuàn')}\n",
      "{('媻珊', 'pánshān'), ('媻姍', 'pánshān'), ('蹣跚', 'pánshān')}\n",
      "{('蹣辟', 'pánbì'), ('磐辟', 'pánbì')}\n",
      "{('旁魄', 'pángbó'), ('磅礡', 'pángbó')}\n",
      "{('荏苒', 'rěnrǎn'), ('苒荏', 'rǎnrěn')}\n",
      "{('葳蕤', 'wěiruí'), ('萎蕤', 'wěiruí')}\n",
      "{('瑟索', 'sèsuǒ'), ('瑟縮', 'sèsuǒ')}\n",
      "{('僧耆', 'sēngqí'), ('僧祇', 'sēngqí')}\n",
      "{('壇漫', 'dànmàn'), ('壇曼', 'dànmàn'), ('澶漫', 'dànmàn')}\n",
      "{('町疃', 'tiǎntuǎn'), ('町畽', 'tiǎntuǎn')}\n",
      "{('瞳矇', 'tóngméng'), ('氃氋', 'tóngméng'), ('䴌䴀', 'méngtóng'), ('膧朦', 'tóngméng'), ('曈曚', 'tóngméng')}\n",
      "{('曈曨', 'tónglóng'), ('膧朧', 'tónglóng')}\n",
      "{('汍瀾', 'wánlán'), ('芄蘭', 'wánlán'), ('汍蘭', 'wánlán')}\n",
      "{('險巇', 'xiǎnxī'), ('巇險', 'xīxiǎn')}\n",
      "{('惺鬆', 'xīngsōng'), ('惺忪', 'xīngsōng')}\n",
      "{('坱圠', 'yǎngyà'), ('坱軋', 'yǎngyà')}\n",
      "{('徜徉', 'chángyáng'), ('倘佯', 'chángyáng')}\n",
      "{('芍藥', 'sháoyào'), ('勺藥', 'sháoyào')}\n",
      "{('芍藥', 'zhuólüè'), ('勺藥', 'zhuólüè')}\n",
      "{('飄搖', 'piāoyáo'), ('嫖姚', 'piāoyáo'), ('飄颻', 'piāoyáo')}\n",
      "{('杈枒', 'chāyā'), ('枒杈', 'yāchā')}\n",
      "{('因循', 'yīnxún'), ('因巡', 'yīnxún')}\n",
      "{('幼眇', 'yàomiào'), ('幼妙', 'yàomiào')}\n",
      "{('邅迍', 'zhānzhūn'), ('迍邅', 'zhūnzhān')}\n",
      "{('啁噍', 'zhōujiū'), ('啁啾', 'zhōujiū')}\n",
      "{('蓽撥', 'bìbō'), ('蓽茇', 'bìbá'), ('觱發', 'bìbō')}\n",
      "{('憔萃', 'qiáocuì'), ('蕉萃', 'qiáocuì'), ('憔顇', 'qiáocuì'), ('憔悴', 'qiáocuì'), ('燋悴', 'qiáocuì'), ('蕉悴', 'qiáocuì')}\n",
      "{('盤薄', 'pánbó'), ('磐礡', 'pánbó'), ('槃礡', 'pánbó'), ('磐薄', 'pánbó')}\n",
      "{('票姚', 'piàoyáo'), ('彯搖', 'piàoyáo')}\n",
      "{('葡萄', 'pútáo'), ('葡桃', 'pútáo')}\n",
      "{('阡眠', 'qiānmián'), ('芊綿', 'qiānmián'), ('芊眠', 'qiānmián'), ('阡綿', 'qiānmián')}\n",
      "{('驌驦', 'sùshuāng'), ('鷫鷞', 'sùshuāng')}\n",
      "{('忀徉', 'xiāngyáng'), ('儴佯', 'xiāngyáng'), ('相羊', 'xiāngyáng')}\n",
      "{('淋漓', 'línlí'), ('淋灕', 'línlí'), ('綝纚', 'línlí')}\n",
      "{('籦籠', 'zhōnglóng'), ('龍鍾', 'lóngzhōng')}\n",
      "{('氤氳', 'yīnyùn'), ('茵蒀', 'yīnyùn')}\n",
      "{('的皪', 'dìlì'), ('玓瓑', 'dìlì'), ('玓瓅', 'dìlì')}\n",
      "{('噭誂', 'jiàotiǎo'), ('噭咷', 'jiàotiǎo')}\n",
      "{('猰貐', 'yàyǔ'), ('猰㺄', 'yàyǔ')}\n",
      "{('螌蝥', 'bānmáo'), ('斑蝥', 'bānmáo')}\n",
      "{('陁靡', 'yǐmǐ'), ('濔迤', 'mǐyǐ')}\n",
      "{('憭慄', 'liáolì'), ('憀慄', 'liáolì'), ('漻浰', 'liáolì'), ('飂戾', 'liáolì'), ('飉厲', 'liáolì')}\n",
      "{('淖約', 'chuòyuē'), ('綽約', 'chuòyuē'), ('汋約', 'chuòyuē')}\n",
      "{('觱沸', 'bìfèi'), ('蔽芾', 'bìfèi')}\n",
      "{('鷖彌', 'yìmí'), ('施靡', 'yìmí')}\n",
      "{('泓宏', 'hónghóng'), ('泓汯', 'hónghóng')}\n",
      "{('䚧觩', 'liúqiú'), ('蟉虯', 'liúqiú')}\n",
      "{('悇憛', 'tútán'), ('憛悇', 'tántú')}\n",
      "{('嶕嶢', 'jiāoyáo'), ('僬僥', 'jiāoyáo')}\n",
      "{('歔欷', 'xūxī'), ('歘吸', 'xūxī')}\n",
      "{('瞑眩', 'miànxuàn'), ('眩湣', 'xuànmiàn')}\n",
      "{('鬱悒', 'yùyì'), ('抑鬱', 'yìyù')}\n",
      "{('琅當', 'lángdāng'), ('鋃鐺', 'lángdāng')}\n",
      "{('敞怳', 'chǎnghuǎng'), ('惝怳', 'chǎnghuǎng')}\n",
      "{('正營', 'zhēngyíng'), ('征營', 'zhēngyíng')}\n",
      "{('琵琶', 'pípá'), ('枇杷', 'pípá')}\n",
      "{('醍醐', 'tíhú'), ('鵜鶘', 'tíhú')}\n",
      "{('突兀', 'tūwù'), ('禿兀', 'tūwù')}\n",
      "{('汀瀅', 'tìngyìng'), ('汀濴', 'tìngyìng')}\n",
      "{('怫愄', 'fèiwèi'), ('沸渭', 'fèiwèi')}\n",
      "{('澼洌', 'piēliè'), ('潎洌', 'piēliè')}\n",
      "{('澎濞', 'pēngpì'), ('滂濞', 'pēngpì')}\n",
      "{('逶迤', 'wēiyí'), ('委蛇', 'wēiyí')}\n",
      "{('區霿', 'kòumào'), ('怐愗', 'kòumào'), ('溝瞀', 'kòumào')}\n",
      "{('坡陀', 'pōtuó'), ('陂陀', 'pōtuó')}\n",
      "{('姌嫋', 'rǎnniǎo'), ('姌裊', 'rǎnniǎo')}\n",
      "{('嘲哳', 'zhāozhā'), ('啁哳', 'zhāozhā')}\n",
      "{('鶹鷅', 'liúlì'), ('懰慄', 'liúlì')}\n",
      "{('欂欂', 'bólú'), ('欂櫨', 'bólú')}\n",
      "{('倜儻', 'tìtǎng'), ('俶儻', 'tìtǎng')}\n",
      "{('楞層', 'léngcéng'), ('棱層', 'léngcéng')}\n",
      "{('倥偬', 'kǒngzǒng'), ('倥傯', 'kǒngzǒng')}\n",
      "{('潺湲', 'chányuán'), ('嬋媛', 'chányuán')}\n",
      "{('凌歷', 'línglì'), ('輘轢', 'línglì')}\n",
      "{('泱漭', 'yǎngmǎng'), ('漭漾', 'mǎngyǎng')}\n",
      "{('倥侗', 'kōngtóng'), ('崆峒', 'kōngtóng')}\n",
      "{('尺蠖', 'chǐhuò'), ('蚇蠖', 'chǐhuò')}\n",
      "{('蚺䗊', 'tiàntàn'), ('蚦䗊', 'tiàntàn')}\n",
      "{('傀儡', 'kuǐlěi'), ('磈磊', 'kuǐlěi')}\n",
      "{('渾沌', 'hùndùn'), ('混沌', 'hùndùn')}\n",
      "{('濩落', 'huòluò'), ('瓠落', 'huòluò'), ('豁落', 'huòluò')}\n",
      "{('雎䧱', 'jūjiū'), ('雎鳩', 'jūjiū')}\n",
      "{('漩澴', 'xuánhuán'), ('旋澴', 'xuánhuán')}\n",
      "{('摩何', 'móhé'), ('靺鞨', 'móhé')}\n",
      "{('蚍蜉', 'pífú'), ('芘芣', 'pífú')}\n",
      "{('爛漫', 'lànmàn'), ('瀾漫', 'lànmàn')}\n",
      "{('轥轢', 'lìnlì'), ('躪轢', 'lìnlì')}\n",
      "{('詰誳', 'jiéqū'), ('詰詘', 'jiéqū')}\n",
      "{('窌條', 'jiàotiáo'), ('叫條', 'jiàotiáo')}\n",
      "{('浸淫', 'qīnyín'), ('浸潯', 'qīnyín')}\n",
      "{('禪于', 'chányú'), ('單于', 'chányú')}\n",
      "{('陸離', 'lùlí'), ('谷蠡', 'lùlí')}\n"
     ]
    }
   ],
   "source": [
    "for st in same_binomes_ds.itersets():\n",
    "    if len(st) > 1:\n",
    "        print(st)"
   ]
  },
  {
   "cell_type": "code",
   "execution_count": null,
   "id": "aca5d5d0",
   "metadata": {},
   "outputs": [],
   "source": []
  }
 ],
 "metadata": {
  "kernelspec": {
   "display_name": "Python 3 (ipykernel)",
   "language": "python",
   "name": "python3"
  },
  "language_info": {
   "codemirror_mode": {
    "name": "ipython",
    "version": 3
   },
   "file_extension": ".py",
   "mimetype": "text/x-python",
   "name": "python",
   "nbconvert_exporter": "python",
   "pygments_lexer": "ipython3",
   "version": "3.10.4"
  }
 },
 "nbformat": 4,
 "nbformat_minor": 5
}
