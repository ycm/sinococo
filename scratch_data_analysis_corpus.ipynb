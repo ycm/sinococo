{
 "cells": [
  {
   "cell_type": "code",
   "execution_count": 21,
   "id": "73a0b0ec",
   "metadata": {},
   "outputs": [],
   "source": [
    "import json, pickle\n",
    "from collections import defaultdict, Counter\n",
    "from graph_util import Char, Composition\n",
    "import matplotlib.pyplot as plt"
   ]
  },
  {
   "cell_type": "code",
   "execution_count": 4,
   "id": "123e2171",
   "metadata": {},
   "outputs": [],
   "source": [
    "with open('CHAR_TO_IDS.pkl', 'rb') as f:\n",
    "    tree = pickle.load(f)"
   ]
  },
  {
   "cell_type": "code",
   "execution_count": 5,
   "id": "86c582b6",
   "metadata": {},
   "outputs": [
    {
     "name": "stdout",
     "output_type": "stream",
     "text": [
      "⿰\n",
      "水\n",
      "十\n"
     ]
    }
   ],
   "source": [
    "print(tree['汁'].child.symbol)\n",
    "for child in tree['汁'].child.children:\n",
    "    print(child.symbol)"
   ]
  },
  {
   "cell_type": "code",
   "execution_count": 20,
   "id": "cd4ead3f",
   "metadata": {},
   "outputs": [],
   "source": [
    "ct = Counter()\n",
    "with open('data/internet-zh.num') as f:\n",
    "    for line in f:\n",
    "        ln = line.strip().split()\n",
    "        try:\n",
    "            tkn = ln[2]\n",
    "            rel_freq = float(ln[1])\n",
    "            if tkn in tree:\n",
    "                if tree[tkn].child:\n",
    "                    ct[tree[tkn].child.symbol] += rel_freq\n",
    "        except IndexError:\n",
    "            pass"
   ]
  },
  {
   "cell_type": "code",
   "execution_count": 25,
   "id": "afffd79a",
   "metadata": {},
   "outputs": [],
   "source": [
    "x\n",
    "ids_to_english_desc = {\n",
    "    '⿰': 'left-right', '⿱': 'top-bottom', '⿻': 'overlapping', '⿸': 'ul-surround', '⿺': 'll-surround',\n",
    "    '⿹': 'ur-surround', '⿵': 'top-surround', '⿳': 'top-middle-bottom', '⿴': 'full-surround', '⿲': 'left-middle-right', '⿶': 'bottom-surround', '⿷': 'left-surround'\n",
    "}"
   ]
  },
  {
   "cell_type": "code",
   "execution_count": 27,
   "id": "38a94889",
   "metadata": {},
   "outputs": [
    {
     "data": {
      "text/plain": [
       "<BarContainer object of 12 artists>"
      ]
     },
     "execution_count": 27,
     "metadata": {},
     "output_type": "execute_result"
    },
    {
     "data": {
      "image/png": "[encoded data removed]",
      "text/plain": [
       "<Figure size 432x288 with 1 Axes>"
      ]
     },
     "metadata": {
      "needs_background": "light"
     },
     "output_type": "display_data"
    }
   ],
   "source": [
    "x = list(ct.keys())\n",
    "y = [ct[i] for i in x]\n",
    "x = [ids_to_english_desc[i] for i in x]\n",
    "plt.title('first compositional child, single-character tokens, Chinese Internet Corpus')\n",
    "plt.barh(x, y)"
   ]
  },
  {
   "cell_type": "code",
   "execution_count": null,
   "id": "aac2d579",
   "metadata": {},
   "outputs": [],
   "source": []
  }
 ],
 "metadata": {
  "kernelspec": {
   "display_name": "Python 3",
   "language": "python",
   "name": "python3"
  },
  "language_info": {
   "codemirror_mode": {
    "name": "ipython",
    "version": 3
   },
   "file_extension": ".py",
   "mimetype": "text/x-python",
   "name": "python",
   "nbconvert_exporter": "python",
   "pygments_lexer": "ipython3",
   "version": "3.9.7"
  }
 },
 "nbformat": 4,
 "nbformat_minor": 5
}
