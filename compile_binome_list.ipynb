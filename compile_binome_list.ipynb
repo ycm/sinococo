{
 "cells": [
  {
   "cell_type": "code",
   "execution_count": 29,
   "id": "01b3e271",
   "metadata": {},
   "outputs": [],
   "source": [
    "import re\n",
    "import json\n",
    "from disjoint_set import DisjointSet\n",
    "from bs4 import BeautifulSoup\n",
    "from parse_util import is_cjk, get_pinyin_splits"
   ]
  },
  {
   "cell_type": "code",
   "execution_count": 30,
   "id": "792a6f07",
   "metadata": {},
   "outputs": [],
   "source": [
    "with open('kroll_parse.json') as f:\n",
    "    kroll = json.load(f)"
   ]
  },
  {
   "cell_type": "code",
   "execution_count": 31,
   "id": "9f414622",
   "metadata": {},
   "outputs": [],
   "source": [
    "# with open('kroll_parse.json', 'w', encoding='utf-8') as f:\n",
    "#     json.dump(kroll, f, indent=2, ensure_ascii=False)"
   ]
  },
  {
   "cell_type": "code",
   "execution_count": 32,
   "id": "0c556935",
   "metadata": {},
   "outputs": [],
   "source": [
    "senses_with_bn = []\n",
    "for character, entry in kroll.items():\n",
    "    for definition in entry['definitions']:\n",
    "        for sense in definition['senses']:\n",
    "            if 'bn.' in sense:\n",
    "                senses_with_bn.append([character, sense])"
   ]
  },
  {
   "cell_type": "code",
   "execution_count": 33,
   "id": "0d34741a",
   "metadata": {},
   "outputs": [
    {
     "data": {
      "text/plain": [
       "1450"
      ]
     },
     "execution_count": 33,
     "metadata": {},
     "output_type": "execute_result"
    }
   ],
   "source": [
    "len(senses_with_bn)"
   ]
  },
  {
   "cell_type": "code",
   "execution_count": 34,
   "id": "08bc3140",
   "metadata": {},
   "outputs": [],
   "source": [
    "same_binomes_ds = DisjointSet()"
   ]
  },
  {
   "cell_type": "markdown",
   "id": "e1c6915b",
   "metadata": {},
   "source": [
    "## 1 occurrence of (bn.), 1 occurrence of ～, no occurrences of ⦿, no \\<ol\\>: 942 total"
   ]
  },
  {
   "cell_type": "code",
   "execution_count": 35,
   "id": "4f44d532",
   "metadata": {},
   "outputs": [],
   "source": [
    "binomes_and_prons = set()"
   ]
  },
  {
   "cell_type": "code",
   "execution_count": 36,
   "id": "cf16a15e",
   "metadata": {
    "scrolled": false
   },
   "outputs": [
    {
     "name": "stdout",
     "output_type": "stream",
     "text": [
      "蒼茫 \n",
      "嫦娥 cháng’é\n",
      "狙猱 jū'náo\n",
      "欄杆 lán’gān\n",
      "茹藘 \n",
      "瑪瑙 mǎ'nǎo\n",
      "瑪瑙 mǎ'nǎo\n",
      "肸蠁 \n",
      "忀徉 or\n"
     ]
    },
    {
     "data": {
      "text/plain": [
       "1116"
      ]
     },
     "execution_count": 36,
     "metadata": {},
     "output_type": "execute_result"
    }
   ],
   "source": [
    "pat_1 = re.compile(r' ?(～.|.～)( .*?)( |,|\\.)')\n",
    "\n",
    "ct = 0\n",
    "for char, sense in senses_with_bn:\n",
    "    if (sense.count('bn.') == 1 and\n",
    "        sense.count('～') == 1 and\n",
    "        '⦿' not in sense):\n",
    "        sense_strip_begin = sense[sense.index('(bn.)') + len('(bn.) '):]\n",
    "        \n",
    "        if '<ol' in sense_strip_begin:\n",
    "            souptext = BeautifulSoup(sense_strip_begin, 'html.parser').find('ol').text\n",
    "            if len(souptext) != len(souptext.encode()):\n",
    "                continue\n",
    "\n",
    "#         print(char, sense_strip_begin)\n",
    "        text = BeautifulSoup(sense_strip_begin, 'html.parser').text\n",
    "        match = pat_1.match(text)\n",
    "        assert match is not None\n",
    "#         print(text)\n",
    "        char_str, pinyin, _ = match.groups()\n",
    "        pinyin = pinyin.replace('(MC', '')\n",
    "        \n",
    "        binome = char_str.strip().replace('～', char)\n",
    "        pron = pinyin.strip()\n",
    "        \n",
    "        binomes_and_prons.add((binome, pron))\n",
    "        if len(get_pinyin_splits(pron)) != 1:\n",
    "            print(binome, pron)\n",
    "        ct += 1\n",
    "ct"
   ]
  },
  {
   "cell_type": "code",
   "execution_count": 37,
   "id": "81949c78",
   "metadata": {},
   "outputs": [
    {
     "data": {
      "text/plain": [
       "874"
      ]
     },
     "execution_count": 37,
     "metadata": {},
     "output_type": "execute_result"
    }
   ],
   "source": [
    "len(binomes_and_prons)"
   ]
  },
  {
   "cell_type": "markdown",
   "id": "c5e9acfa",
   "metadata": {},
   "source": [
    "## 1 occurrence of (bn.), 1 occurrence of ～, 1+ occurrence of ⦿, no \\<ol\\>: 66 total"
   ]
  },
  {
   "cell_type": "code",
   "execution_count": 38,
   "id": "79aeac9f",
   "metadata": {},
   "outputs": [
    {
     "name": "stdout",
     "output_type": "stream",
     "text": [
      "馬腦 mǎ'nǎo\n",
      "瑪瑙 mǎ'nǎo\n"
     ]
    },
    {
     "data": {
      "text/plain": [
       "66"
      ]
     },
     "execution_count": 38,
     "metadata": {},
     "output_type": "execute_result"
    }
   ],
   "source": [
    "pat_2 = re.compile(r'⦿ (..)( .*?)( |,|\\.)')\n",
    "\n",
    "ct = 0\n",
    "for char, sense in senses_with_bn:\n",
    "    if (sense.count('bn.') == 1 and\n",
    "        sense.count('～') == 1 and\n",
    "        sense.count('⦿') and\n",
    "        '<ol' not in sense):\n",
    "        sense_strip_begin = sense[sense.index('(bn.)') + len('(bn.) '):]\n",
    "        ct += 1\n",
    "        sense_1, sense_2 = sense_strip_begin.split('⦿')\n",
    "\n",
    "        text = BeautifulSoup(sense_1, 'html.parser').text\n",
    "        match = pat_1.match(text)\n",
    "        assert match is not None\n",
    "        char_str, pinyin, _ = match.groups()\n",
    "        pinyin = pinyin.replace('(MC', '')\n",
    "\n",
    "        binome = char_str.strip().replace('～', char)\n",
    "        pron = pinyin.strip()\n",
    "\n",
    "        sense_2 = '⦿' + BeautifulSoup(sense_2, 'html.parser').text\n",
    "        match = pat_2.match(sense_2)\n",
    "        assert match is not None\n",
    "        binome_variant, pron_variant, _ = match.groups()\n",
    "        pron_variant = pron_variant.strip()\n",
    "        \n",
    "        binomes_and_prons.add((binome, pron))\n",
    "        binomes_and_prons.add((binome_variant, pron_variant))\n",
    "        \n",
    "        if len(get_pinyin_splits(pron)) != 1:\n",
    "            print(binome, pron)\n",
    "        if len(get_pinyin_splits(pron_variant)) != 1:\n",
    "            print(binome_variant, pron_variant)\n",
    "        \n",
    "        same_binomes_ds.union((binome, pron), (binome_variant, pron_variant))\n",
    "ct"
   ]
  },
  {
   "cell_type": "code",
   "execution_count": 39,
   "id": "fa3ac40c",
   "metadata": {},
   "outputs": [
    {
     "data": {
      "text/plain": [
       "942"
      ]
     },
     "execution_count": 39,
     "metadata": {},
     "output_type": "execute_result"
    }
   ],
   "source": [
    "len(binomes_and_prons)"
   ]
  },
  {
   "cell_type": "markdown",
   "id": "c0d9fa36",
   "metadata": {},
   "source": [
    "## 1 occurrence of (bn.), 2+ occurrence of ～, no ⦿, no \\<ol\\>: 109 total"
   ]
  },
  {
   "cell_type": "code",
   "execution_count": 40,
   "id": "4737ed04",
   "metadata": {
    "scrolled": false
   },
   "outputs": [
    {
     "name": "stdout",
     "output_type": "stream",
     "text": [
      "恆娥 héng’é\n",
      "嫦娥 cháng’é\n",
      "荷 hé\n",
      "蘆 lú\n",
      "金柑 jīn’gān\n",
      "金錢松 jīnqiánsōng\n",
      "蛩蛩駏驉 qióngqióngjùxū\n",
      "蛩 qióng\n",
      "嬋 chán\n",
      "荳 dòu\n",
      "豆 dòu\n",
      "檳 bīn\n",
      "儻 tǎng\n",
      "沙 shā\n",
      "蕙 huì\n",
      "紛 fēn\n",
      "澎 pēng\n",
      "慇 yīn\n",
      "舍利弗 shèlìfú\n",
      "鸜鵒 qú\n",
      "鸜 qú\n",
      "羊躑躅 yángzhízhú\n"
     ]
    }
   ],
   "source": [
    "pat_mc = re.compile(r\"( ?\\(MC ['‘`A-Za-z+]+-['‘`A-Za-z+]+\\))\")\n",
    "for char, sense in senses_with_bn:\n",
    "    if (sense.count('bn.') == 1 and\n",
    "        sense.count('～') > 1 and\n",
    "        '⦿' not in sense and\n",
    "        '<ol' not in sense):\n",
    "        sense_strip_begin = sense[sense.index('(bn.)') + len('(bn.) '):]\n",
    "#         print(char, sense_strip_begin)\n",
    "        for mc in pat_mc.findall(sense_strip_begin):\n",
    "            sense_strip_begin = sense_strip_begin.replace(mc, '')\n",
    "        text = BeautifulSoup(sense_strip_begin, 'html.parser').text\n",
    "        text = re.sub('[,\\.\\(\\);]', '', text).replace('→ ', '').split()\n",
    "        curr_binome = None\n",
    "        curr_pron = None\n",
    "        prev_binome = None\n",
    "#         print(text)\n",
    "        for substring in text:\n",
    "            if ('→' in substring or\n",
    "                all(ord(c) < 128 or c in '’“”' for c in substring) or\n",
    "                substring in ('Śāriputra', 'śarīra', 'zanjī')):\n",
    "                continue\n",
    "\n",
    "            if all(is_cjk(c) or c == '～' for c in substring):\n",
    "                curr_binome = substring.replace('～', char)\n",
    "\n",
    "                if prev_binome is None:\n",
    "                    prev_binome = curr_binome\n",
    "\n",
    "            else:\n",
    "                curr_pron = substring\n",
    "\n",
    "                if curr_binome is None:\n",
    "                    continue\n",
    "\n",
    "                same_binomes_ds.find((curr_binome, curr_pron))\n",
    "                \n",
    "                if prev_binome:\n",
    "                    same_binomes_ds.union((curr_binome, curr_pron), (prev_binome, curr_pron))\n",
    "\n",
    "                for (binome, pron) in [s for s in same_binomes_ds.itersets() if (curr_binome, curr_pron) in s][0]:\n",
    "                    binomes_and_prons.add((binome, pron))\n",
    "                    if len(get_pinyin_splits(pron)) != 1:\n",
    "                        print(binome, pron)\n",
    "                \n",
    "                prev_binome = None"
   ]
  },
  {
   "cell_type": "code",
   "execution_count": 41,
   "id": "f285373e",
   "metadata": {},
   "outputs": [],
   "source": [
    "def is_in_remaining_set(sense):\n",
    "    # 1, 1, 0, 1+\n",
    "    # 1, 2+, 0, 1+\n",
    "    # 1, 2+, 1+, 1+\n",
    "    if (sense.count('bn.') == 1 and\n",
    "        sense.count('～') and\n",
    "        '<ol' in sense):\n",
    "        sense_strip_begin = sense[sense.index('(bn.)') + len('(bn.) '):]\n",
    "        if '<ol' in sense_strip_begin:\n",
    "            souptext = BeautifulSoup(sense_strip_begin, 'html.parser').find('ol').text\n",
    "            if len(souptext) != len(souptext.encode()):\n",
    "                return True\n",
    "    \n",
    "    # 1, 0, 0+, 0+\n",
    "    # 2, 0+, 0+, 0+\n",
    "    # 3+, 0+, 0+, 0+\n",
    "    if (sense.count('bn.') and\n",
    "        sense.count('～') == 0):\n",
    "        return True\n",
    "    \n",
    "    # 1, 2+, 1+, 0\n",
    "    if (sense.count('bn.') == 1 and\n",
    "        sense.count('～') > 1 and\n",
    "        '⦿' in sense and\n",
    "        '<ol' not in sense):\n",
    "        return True\n",
    "    \n",
    "    return False"
   ]
  },
  {
   "cell_type": "markdown",
   "id": "abaccf06",
   "metadata": {},
   "source": [
    "## Remaining cases"
   ]
  },
  {
   "cell_type": "code",
   "execution_count": 42,
   "id": "6b0cb4de",
   "metadata": {},
   "outputs": [],
   "source": [
    "# ct = 0\n",
    "# for char, sense in senses_with_bn:\n",
    "#     if is_in_remaining_set(sense):\n",
    "#         ct += 1\n",
    "#         print(char, BeautifulSoup(sense, 'html.parser').text.strip().replace('\\n', ''))\n",
    "#         print()\n",
    "# ct"
   ]
  },
  {
   "cell_type": "code",
   "execution_count": 43,
   "id": "410a12a3",
   "metadata": {},
   "outputs": [],
   "source": [
    "hand_annotated = '''蓽茇 bìbá\t蓽撥 bìbō\n",
    "刺促 cìcù\n",
    "的皪 dìlì\n",
    "氛氳 fēnyùn\n",
    "芙蓉 fúróng\t芙蕖 fúqú\n",
    "蕉悴 qiáocuì\t蕉萃 qiáocuì\t憔悴 qiáocuì\t憔萃 qiáocuì\n",
    "驕傲 jiāo’ào\n",
    "崑崙 kūnlún\n",
    "芒忽 huǎnghū\t恍惚 huǎnghū\n",
    "獼猴 míhóu\n",
    "撓挑 náotiāo\n",
    "磐礡 pánbó\t磐薄 pánbó\t盤薄 pánbó\n",
    "蚍蜉 pífú\n",
    "彯搖 piàoyáo\t票姚 piàoyáo\n",
    "葡萄 pútáo\t葡桃 pútáo\n",
    "蒲伏 púfú\t蒲服 púfú\t匍匐 púfú\n",
    "阡眠 qiānmián\t阡綿 qiānmián\t芊眠 qiānmián\t芊綿 qiānmián\n",
    "憔悴 qiáocuì\t憔顇 qiáocuì\t蕉萃 qiáocuì\n",
    "芍藥 sháoyào\t勺藥 sháoyào\n",
    "驌驦 sùshuāng\t鷫鷞 sùshuāng\n",
    "爣朗 tǎnglǎng\t爣閬 tǎnglǎng\t儻朗 tǎnglǎng\t儻閬 tǎnglǎng\n",
    "婉戀 wǎnliàn\n",
    "茱萸 zhūyú\n",
    "茵蒀 yīnyūn\t葐蒀 fényūn\t氤氳 yīnyūn\n",
    "鷓鴣 zhègū\n",
    "獬豸 xièzhì\n",
    "螽斯 zhōngsī\n",
    "汎𣶏 fájié\n",
    "蒼茫 cāngmáng\n",
    "嫦娥 cháng’é\n",
    "狙猱 jū'náo\n",
    "欄杆 lán’gān\n",
    "茹藘 rúlǘ\n",
    "瑪瑙 mǎ'nǎo\n",
    "瑪瑙 mǎ'nǎo\n",
    "肸蠁 xīxiǎng'''"
   ]
  },
  {
   "cell_type": "code",
   "execution_count": 44,
   "id": "766e1c30",
   "metadata": {},
   "outputs": [],
   "source": [
    "for binome_class in hand_annotated.split('\\n'):\n",
    "    binome_pron_list = []\n",
    "    for binome_pron in binome_class.split('\\t'):\n",
    "        binome, pron = binome_pron.split()\n",
    "        binome_pron_list.append((binome, pron))\n",
    "        binomes_and_prons.add((binome, pron))\n",
    "    for binome_pron in binome_pron_list[1:]:\n",
    "        same_binomes_ds.union(binome_pron_list[0], binome_pron)"
   ]
  },
  {
   "cell_type": "code",
   "execution_count": 45,
   "id": "a8f0144e",
   "metadata": {},
   "outputs": [],
   "source": [
    "a1 = ('忀徉', 'xiāngyáng')\n",
    "a2 = ('儴佯', 'xiāngyáng')\n",
    "a3 = ('相羊', 'xiāngyáng')\n",
    "\n",
    "same_binomes_ds.union(a1, a2)\n",
    "same_binomes_ds.union(a2, a3)\n",
    "binomes_and_prons |= {a1, a2, a3}"
   ]
  },
  {
   "cell_type": "code",
   "execution_count": 46,
   "id": "9da37c71",
   "metadata": {},
   "outputs": [],
   "source": [
    "import pickle as pkl\n",
    "with open('BINOMES_PARSED_LIST.pkl', 'wb') as f:\n",
    "    pkl.dump({(b, p.strip()) for (b, p) in binomes_and_prons if (len(b) == 2 and (p.strip()))}, f)\n",
    "with open('BINOMES_PARSED_SAME_DS.pkl', 'wb') as f:\n",
    "    pkl.dump(same_binomes_ds, f)"
   ]
  },
  {
   "cell_type": "markdown",
   "id": "697a2dde",
   "metadata": {},
   "source": [
    "# verify that we have a superset"
   ]
  },
  {
   "cell_type": "code",
   "execution_count": 45,
   "id": "8674fe24",
   "metadata": {},
   "outputs": [],
   "source": [
    "import pandas as pd"
   ]
  },
  {
   "cell_type": "code",
   "execution_count": 46,
   "id": "4a4b9506",
   "metadata": {},
   "outputs": [],
   "source": [
    "binomes_df = pd.read_csv('binomes_df.tsv', sep='\\t')"
   ]
  },
  {
   "cell_type": "code",
   "execution_count": 47,
   "id": "f4705a9e",
   "metadata": {
    "scrolled": false
   },
   "outputs": [
    {
     "name": "stdout",
     "output_type": "stream",
     "text": [
      "黯慘\n",
      "黯黮\n",
      "黯黮\n",
      "翱翔\n",
      "懊惱\n",
      "斑剝\n",
      "崩騰\n",
      "赑屓\n",
      "辟易\n",
      "勃然\n",
      "參潭\n",
      "慘悴\n",
      "燦爛\n",
      "藏催\n",
      "嘈啐\n",
      "嘈雜\n",
      "參差\n",
      "差池\n",
      "瀺灂\n",
      "嶄巗\n",
      "瀺灂\n",
      "悵望\n",
      "趻踔\n",
      "哆然\n",
      "差池\n",
      "蔥蘢\n",
      "踧踖\n",
      "蹴然\n",
      "蹙然\n",
      "攢雜\n",
      "蹉跌\n",
      "澹泊\n",
      "澹淡\n",
      "澹蕩\n",
      "澹灧\n",
      "滴瀝\n",
      "蹀躞\n",
      "憞溷\n",
      "峨然\n",
      "幡然\n",
      "袢廷\n",
      "沸濆\n",
      "紛綸\n",
      "芬氳\n",
      "紛紜\n",
      "蚡緼\n",
      "豐茸\n",
      "怫然\n",
      "嘸然\n",
      "闞然\n",
      "杭壯\n",
      "輷輘\n",
      "鴻洞\n",
      "鴻蒙\n",
      "劃然\n",
      "萑蔰\n",
      "萑蘭\n",
      "荒唐\n",
      "熀爛\n",
      "潢然\n",
      "浹洽\n",
      "間關\n",
      "齽齘\n",
      "啾嘈\n",
      "局促\n",
      "跼躅\n",
      "具然\n",
      "悁急\n",
      "屈強\n",
      "戄然\n",
      "鏗鍧\n",
      "鏗鏘\n",
      "塊然\n",
      "曠蕩\n",
      "蘭單\n",
      "磊落\n",
      "離麋\n",
      "離靡\n",
      "離披\n",
      "漣洏\n",
      "聯娟\n",
      "聯卷\n",
      "連卷\n",
      "連軒\n",
      "戀眷\n",
      "瀲灧\n",
      "寥廓\n",
      "飉濿\n",
      "嘹唳\n",
      "寥唳\n",
      "寥亮\n",
      "嘹亮\n",
      "寥落\n",
      "潦倒\n",
      "璘班\n",
      "璘彬\n",
      "琳瑯\n",
      "轔轢\n",
      "燐亂\n",
      "凜然\n",
      "轔轢\n",
      "輘輷\n",
      "岺巆\n",
      "凌厲\n",
      "岺嶙\n",
      "隆穹\n",
      "龍鐘\n",
      "蘢蔥\n",
      "霡霂\n",
      "曼羨\n",
      "曼衍\n",
      "茫昧\n",
      "茫然\n",
      "茫洋\n",
      "莽蒼\n",
      "彌漫\n",
      "密勿\n",
      "黽勉\n",
      "膩細\n",
      "蘖卼\n",
      "濘溺\n",
      "嘔軋\n",
      "盤桓\n",
      "磅礴\n",
      "滂沛\n",
      "濆薄\n",
      "輣訇\n",
      "輣闐\n",
      "漂然\n",
      "瞥列\n",
      "瞥裂\n",
      "嬪然\n",
      "坡坨\n",
      "葡服\n",
      "葡伏\n",
      "祺然\n",
      "崎嶷\n",
      "岐嶷\n",
      "磧礫\n",
      "磧歷\n",
      "鎗玲\n",
      "踥跌\n",
      "嶔岑\n",
      "嶔崎\n",
      "丘虛\n",
      "蘧然\n",
      "蜷跼\n",
      "逡循\n",
      "溶與\n",
      "颯爽\n",
      "颯沓\n",
      "騷搔\n",
      "奭然\n",
      "儵忽\n",
      "率爾\n",
      "率然\n",
      "斯須\n",
      "索落\n",
      "索然\n",
      "荅然\n",
      "荅焉\n",
      "嗒然\n",
      "嗒焉\n",
      "曇欒\n",
      "黮暗\n",
      "曭朗\n",
      "曭莽\n",
      "倜然\n",
      "岧嵽\n",
      "岹嵽\n",
      "岹嶤\n",
      "岧嶤\n",
      "岧嶤\n",
      "膧䑃\n",
      "秃兀\n",
      "脫然\n",
      "妥帖\n",
      "頑鈍\n",
      "婉轉\n",
      "汪翔\n",
      "萎約\n",
      "巍峨\n",
      "萎腇\n",
      "蓊茸\n",
      "蓊鬱\n",
      "齷齪\n",
      "烏乎\n",
      "嗚虖\n",
      "嗚呼\n",
      "烏呼\n",
      "烏虖\n",
      "嗚乎\n",
      "嗚呼\n",
      "嗚咽\n",
      "嗚咽\n",
      "沕潏\n",
      "沕穆\n",
      "翕然\n",
      "翕赩\n",
      "屭奰\n",
      "翕赫\n",
      "嗑然\n",
      "洗然\n",
      "象罔\n",
      "翛然\n",
      "蕭灑\n",
      "瀟灑\n",
      "瀟瑟\n",
      "蕭瑟\n",
      "蕭瑟\n",
      "瀟森\n",
      "蕭森\n",
      "瀟率\n",
      "蕭率\n",
      "蕭肅\n",
      "瀟索\n",
      "蕭索\n",
      "蕭條\n",
      "瀟條\n",
      "蕭條\n",
      "蕭閒\n",
      "澩灂\n",
      "涓然\n",
      "嫣然\n",
      "閹然\n",
      "菴藹\n",
      "泱灢\n",
      "么麼\n",
      "妖冶\n",
      "嶢嶭\n",
      "搖曳\n",
      "窅眇\n",
      "窅然\n",
      "嶪峩\n",
      "嶪峨\n",
      "曵曳\n",
      "依稀\n",
      "伊邑\n",
      "伊鬱\n",
      "依約\n",
      "夷靡\n",
      "迤靡\n",
      "蘙薈\n",
      "蘙蔚\n",
      "佚豫\n",
      "屹崪\n",
      "听然\n",
      "顒然\n",
      "優游\n",
      "優游\n",
      "油然\n",
      "褏然\n",
      "俞然\n",
      "蔚結\n",
      "雜錯\n",
      "雜襲\n",
      "嶄然\n",
      "蹍然\n",
      "輾轉\n",
      "展轉\n",
      "輾轉\n",
      "贄然\n",
      "灼然\n",
      "酌然\n",
      "岝崿\n"
     ]
    }
   ],
   "source": [
    "for _, row in binomes_df.iterrows():\n",
    "    if len({b for b, p in binomes_and_prons if b == row.traditional}) != 1:\n",
    "        print(row.traditional)"
   ]
  },
  {
   "cell_type": "code",
   "execution_count": null,
   "id": "68de3dc6",
   "metadata": {},
   "outputs": [],
   "source": []
  }
 ],
 "metadata": {
  "kernelspec": {
   "display_name": "Python 3 (ipykernel)",
   "language": "python",
   "name": "python3"
  },
  "language_info": {
   "codemirror_mode": {
    "name": "ipython",
    "version": 3
   },
   "file_extension": ".py",
   "mimetype": "text/x-python",
   "name": "python",
   "nbconvert_exporter": "python",
   "pygments_lexer": "ipython3",
   "version": "3.10.4"
  }
 },
 "nbformat": 4,
 "nbformat_minor": 5
}
