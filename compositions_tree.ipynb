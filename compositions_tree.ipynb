{
 "cells": [
  {
   "cell_type": "code",
   "execution_count": 1,
   "id": "ebbbd592",
   "metadata": {},
   "outputs": [],
   "source": [
    "import json\n",
    "from collections import defaultdict\n",
    "\n",
    "# with open(\"char_to_ids_singles.json\") as f:\n",
    "#     words = json.load(f)\n",
    "\n",
    "with open('CHAR_TO_ALTS.json') as f:\n",
    "    char_to_alts = defaultdict(list, json.load(f))\n",
    "    \n",
    "\n",
    "with open('CHAR_TO_IDS.json') as f:\n",
    "    words = json.load(f)\n",
    "    words = {k: v[0] for k, v in words.items()}"
   ]
  },
  {
   "cell_type": "code",
   "execution_count": 2,
   "id": "15c5743c",
   "metadata": {},
   "outputs": [],
   "source": [
    "alts = sum(char_to_alts.values(), [])\n",
    "alt_to_standard = {\n",
    "    alt: [c for c, a in char_to_alts.items() if alt in a][0]\n",
    "    for alt in alts\n",
    "}\n",
    "def standardize(s, k):\n",
    "    out = ''\n",
    "    for c in s:\n",
    "        if c in alt_to_standard:\n",
    "            out += alt_to_standard[c]\n",
    "        else:\n",
    "            out += c\n",
    "    return out"
   ]
  },
  {
   "cell_type": "code",
   "execution_count": 3,
   "id": "320b1df3",
   "metadata": {},
   "outputs": [],
   "source": [
    "words = {\n",
    "    k: standardize(v, k)\n",
    "    for k, v in words.items()\n",
    "}"
   ]
  },
  {
   "cell_type": "code",
   "execution_count": 4,
   "id": "2d54a9ef",
   "metadata": {
    "scrolled": false
   },
   "outputs": [],
   "source": [
    "words['老'] = '⿱耂匕'"
   ]
  },
  {
   "cell_type": "code",
   "execution_count": 5,
   "id": "8716ecb8",
   "metadata": {},
   "outputs": [
    {
     "data": {
      "text/plain": [
       "'⿹⿺㇉⿻三丨火'"
      ]
     },
     "execution_count": 5,
     "metadata": {},
     "output_type": "execute_result"
    }
   ],
   "source": [
    "words['馬']"
   ]
  },
  {
   "cell_type": "code",
   "execution_count": 6,
   "id": "5431f3cb",
   "metadata": {},
   "outputs": [],
   "source": [
    "compositions = {\n",
    "    'binary': ['⿰', '⿱', '⿴', '⿵', '⿶', '⿷', '⿸', '⿹', '⿺', '⿻'],\n",
    "    'ternary': ['⿲', '⿳']\n",
    "}"
   ]
  },
  {
   "cell_type": "code",
   "execution_count": 7,
   "id": "3668d37c",
   "metadata": {},
   "outputs": [],
   "source": [
    "class Composition:\n",
    "    def __init__(self, data):\n",
    "        self.classification = \"composition\"\n",
    "        self.symbol = data\n",
    "        self.children = []\n",
    "        self.parent = None"
   ]
  },
  {
   "cell_type": "code",
   "execution_count": 8,
   "id": "70733272",
   "metadata": {},
   "outputs": [],
   "source": [
    "class Char:\n",
    "    def __init__(self, data):\n",
    "        self.classification = \"char\"\n",
    "        self.symbol = data\n",
    "        self.child = None\n",
    "        self.parents = []"
   ]
  },
  {
   "cell_type": "code",
   "execution_count": 9,
   "id": "0071218f",
   "metadata": {},
   "outputs": [],
   "source": [
    "chars = {}\n",
    "leftover = None\n",
    "def recurse(curr, num_children_expected, parent):\n",
    "    global leftover\n",
    "    global chars\n",
    "    for _ in range(num_children_expected):\n",
    "        curr_symbol = leftover[0]\n",
    "        if curr_symbol in compositions['binary'] or curr_symbol in compositions['ternary']:\n",
    "            leftover = leftover[1:]\n",
    "            num_children_expected = 3 if curr_symbol in compositions['ternary'] else 2\n",
    "            composition = Composition(curr_symbol)\n",
    "            curr.children.append(composition)\n",
    "            composition.parent = parent\n",
    "            recurse(composition, num_children_expected=num_children_expected, parent=composition)\n",
    "        else:\n",
    "            if curr_symbol not in chars:\n",
    "                char = Char(curr_symbol)\n",
    "                chars[curr_symbol] = char\n",
    "            curr.children.append(chars[curr_symbol])\n",
    "            chars[curr_symbol].parents.append(curr)\n",
    "            leftover = leftover[1:]\n",
    "\n",
    "def process(input_word, breakdown):\n",
    "    if len(breakdown) == 1:\n",
    "        # trivial\n",
    "        return\n",
    "    global leftover\n",
    "    global chars\n",
    "    first = breakdown[0]\n",
    "    if input_word not in chars:\n",
    "        word = Char(input_word)\n",
    "        chars[input_word] = word\n",
    "    word = chars[input_word]\n",
    "    c = Composition(first)\n",
    "    c.parent = word\n",
    "    word.child = c\n",
    "    leftover = breakdown[1:]\n",
    "    \n",
    "#     if input_word == '㔐':\n",
    "#         print(word.symbol)\n",
    "#         print(word.child.parent.symbol)\n",
    "    \n",
    "    num_children_expected = 3 if first in compositions['ternary'] else 2\n",
    "    recurse(c, num_children_expected=num_children_expected, parent=c)\n",
    "    return word"
   ]
  },
  {
   "cell_type": "code",
   "execution_count": 10,
   "id": "01d7d53e",
   "metadata": {},
   "outputs": [],
   "source": [
    "def bfs(root):\n",
    "    q = [(0, root)]\n",
    "    while len(q) != 0:\n",
    "        level, curr = q[0]\n",
    "        q = q[1:]\n",
    "        if curr.classification == 'char':\n",
    "            print('#' * level, curr.symbol)\n",
    "            if curr.child:\n",
    "                q.append((level + 1, curr.child))\n",
    "        else:\n",
    "            print('$' * level, curr.symbol)\n",
    "            for c in curr.children:\n",
    "                q.append((level + 1, c))"
   ]
  },
  {
   "cell_type": "code",
   "execution_count": 11,
   "id": "1add3c3f",
   "metadata": {},
   "outputs": [],
   "source": [
    "word = '佥'\n",
    "breakdown = '⿳亼𭕄一'\n",
    "a = process(word, breakdown)"
   ]
  },
  {
   "cell_type": "code",
   "execution_count": 12,
   "id": "f0803445",
   "metadata": {},
   "outputs": [],
   "source": [
    "word = '但'\n",
    "breakdown = '⿰亻旦'\n",
    "b = process(word, breakdown)"
   ]
  },
  {
   "cell_type": "code",
   "execution_count": 13,
   "id": "36eb44d1",
   "metadata": {},
   "outputs": [
    {
     "name": "stdout",
     "output_type": "stream",
     "text": [
      " 佥\n",
      "$ ⿳\n",
      "## 亼\n",
      "## 𭕄\n",
      "## 一\n"
     ]
    }
   ],
   "source": [
    "bfs(a)"
   ]
  },
  {
   "cell_type": "code",
   "execution_count": 14,
   "id": "29386e42",
   "metadata": {},
   "outputs": [
    {
     "name": "stdout",
     "output_type": "stream",
     "text": [
      " 但\n",
      "$ ⿰\n",
      "## 亻\n",
      "## 旦\n"
     ]
    }
   ],
   "source": [
    "bfs(b)"
   ]
  },
  {
   "cell_type": "code",
   "execution_count": 15,
   "id": "36291303",
   "metadata": {},
   "outputs": [],
   "source": [
    "word = '旦'\n",
    "breakdown = words['旦']\n",
    "c = process(word, breakdown)"
   ]
  },
  {
   "cell_type": "code",
   "execution_count": 16,
   "id": "d3afaf6b",
   "metadata": {},
   "outputs": [
    {
     "name": "stdout",
     "output_type": "stream",
     "text": [
      " 旦\n",
      "$ ⿱\n",
      "## 日\n",
      "## 一\n"
     ]
    }
   ],
   "source": [
    "bfs(c)"
   ]
  },
  {
   "cell_type": "code",
   "execution_count": 17,
   "id": "d44298f4",
   "metadata": {},
   "outputs": [
    {
     "name": "stdout",
     "output_type": "stream",
     "text": [
      "专 ⿻二⿱丶\n",
      "衰 ⿳亠𧘇\n",
      "𠀌 ⿻⿱一丨\n",
      "𠁔 ⿱⿻並甹\n",
      "𠂶 ⿱丿⿹⿺㇉⿱一⿰一丿\n",
      "𠃛 ⿰⿷𰀄亅\n",
      "𠃢 ⿻⿰丿丨⿹𠃊\n",
      "𠃬 ⿻⿷己匚\n",
      "𠄷 ⿱⿲𠔼\n",
      "𠇇 ⿰人⿺⿻二丶\n",
      "𠑻 ⿳亠儿\n",
      "𠦂 ⿻十\n",
      "𠨰 ⿸厂⿻乙\n",
      "𠬶 ⿳⿻一冖又\n",
      "𡆢 ⿴囗\n",
      "𡖈 ⿱⿴丨⿴丨\n",
      "𡦹 ⿱丶⿵𠘨\n",
      "𡧑 ⿳宀大\n",
      "𡰣 ⿱丿\n",
      "𢀓 ⿻工\n",
      "𢀖 ⿱工\n",
      "𢋪 ⿸广⿳⿻⿰丨丨八⿲𠀉乂彐\n",
      "𤔔 ⿳爪龴⿵冂⿱厶\n",
      "𤕈 ⿱爪⿲呂⿱⿱丨呂\n",
      "𥪐 ⿱立⿰⿺乙仌\n",
      "𥪑 ⿱立⿰⿺乙牛\n",
      "𥸧 米⿰丁\n",
      "𦉭 ⿻儿⿹𠃊\n",
      "𦱉 ⿱艸\n",
      "𧩶 ⿰言\n",
      "𧭹 ⿱言\n",
      "𨸏 ⿱丿⿰丨⿳\n",
      "𩻝 ⿰魚\n",
      "𩼁 ⿰魚\n",
      "𩼧 ⿰魚\n",
      "𪛄 ⿳㽞𠮥⿰𢑑⿺乙⿰丨\n"
     ]
    }
   ],
   "source": [
    "for i, (char, breakdown) in enumerate(words.items()):\n",
    "    try:\n",
    "        process(char, breakdown)\n",
    "    except Exception:\n",
    "        print(char, breakdown)"
   ]
  },
  {
   "cell_type": "code",
   "execution_count": 18,
   "id": "1af3ecf4",
   "metadata": {},
   "outputs": [
    {
     "name": "stdout",
     "output_type": "stream",
     "text": [
      " 老\n",
      "$ ⿱\n",
      "## 耂\n",
      "## 匕\n",
      "$$$ ⿻\n",
      "$$$ ⿺\n",
      "#### 丿\n",
      "#### 土\n",
      "#### 乙\n",
      "#### 丿\n",
      "$$$$$ ⿱\n",
      "###### 十\n",
      "###### 一\n",
      "$$$$$$$ ⿻\n",
      "######## 一\n",
      "######## 丨\n"
     ]
    }
   ],
   "source": [
    "bfs(chars['老'])"
   ]
  },
  {
   "cell_type": "code",
   "execution_count": 19,
   "id": "67f0ec3c",
   "metadata": {},
   "outputs": [],
   "source": [
    "import sys\n",
    "\n",
    "sys.setrecursionlimit(8000)"
   ]
  },
  {
   "cell_type": "code",
   "execution_count": 20,
   "id": "7c37b398",
   "metadata": {},
   "outputs": [],
   "source": [
    "import pickle as pkl\n",
    "\n",
    "with open('CHAR_TO_IDS.pkl', 'wb') as f:\n",
    "    pkl.dump(chars, f)"
   ]
  },
  {
   "cell_type": "code",
   "execution_count": null,
   "id": "f439acb9",
   "metadata": {},
   "outputs": [],
   "source": []
  },
  {
   "cell_type": "code",
   "execution_count": null,
   "id": "01fb54d5",
   "metadata": {},
   "outputs": [],
   "source": []
  },
  {
   "cell_type": "code",
   "execution_count": null,
   "id": "15f92ea3",
   "metadata": {},
   "outputs": [],
   "source": []
  },
  {
   "cell_type": "code",
   "execution_count": null,
   "id": "c0839ef0",
   "metadata": {},
   "outputs": [],
   "source": []
  },
  {
   "cell_type": "code",
   "execution_count": null,
   "id": "0816cb57",
   "metadata": {},
   "outputs": [],
   "source": []
  },
  {
   "cell_type": "code",
   "execution_count": null,
   "id": "46e2790a",
   "metadata": {},
   "outputs": [],
   "source": []
  },
  {
   "cell_type": "code",
   "execution_count": null,
   "id": "ed82f8a1",
   "metadata": {},
   "outputs": [],
   "source": []
  },
  {
   "cell_type": "code",
   "execution_count": null,
   "id": "fdb0c660",
   "metadata": {},
   "outputs": [],
   "source": []
  }
 ],
 "metadata": {
  "kernelspec": {
   "display_name": "Python 3 (ipykernel)",
   "language": "python",
   "name": "python3"
  },
  "language_info": {
   "codemirror_mode": {
    "name": "ipython",
    "version": 3
   },
   "file_extension": ".py",
   "mimetype": "text/x-python",
   "name": "python",
   "nbconvert_exporter": "python",
   "pygments_lexer": "ipython3",
   "version": "3.10.2"
  }
 },
 "nbformat": 4,
 "nbformat_minor": 5
}
