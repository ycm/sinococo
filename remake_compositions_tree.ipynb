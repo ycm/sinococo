{
 "cells": [
  {
   "cell_type": "code",
   "execution_count": 69,
   "id": "eb6dad49",
   "metadata": {},
   "outputs": [],
   "source": [
    "import json"
   ]
  },
  {
   "cell_type": "code",
   "execution_count": 70,
   "id": "02b1fb4a",
   "metadata": {},
   "outputs": [],
   "source": [
    "# with open('CHAR_TO_IDS_FULL_UNIFIED.json') as f:\n",
    "#     char_to_ids = json.load(f)\n",
    "# with open('char_to_alts.json') as f:\n",
    "#     char_to_alts = json.load(f)\n",
    "\n",
    "import json\n",
    "from collections import defaultdict\n",
    "\n",
    "with open('char_to_alts.json') as f:\n",
    "    char_to_alts = defaultdict(list, json.load(f))\n",
    "    \n",
    "\n",
    "with open('CHAR_TO_IDS_FULL_UNIFIED.json') as f:\n",
    "    char_list = {}\n",
    "    for k, v in json.load(f).items():\n",
    "        if v:\n",
    "            char_list[k] = v[0]\n",
    "        else:\n",
    "            char_list[k] = []"
   ]
  },
  {
   "cell_type": "code",
   "execution_count": 71,
   "id": "9863bd50",
   "metadata": {},
   "outputs": [],
   "source": [
    "alts = sum(char_to_alts.values(), [])\n",
    "alt_to_standard = {\n",
    "    alt: [c for c, a in char_to_alts.items() if alt in a][0]\n",
    "    for alt in alts\n",
    "}\n",
    "def standardize(s, k):\n",
    "    out = ''\n",
    "    for c in s:\n",
    "        if c in alt_to_standard:\n",
    "            out += alt_to_standard[c]\n",
    "        else:\n",
    "            out += c\n",
    "    return out"
   ]
  },
  {
   "cell_type": "code",
   "execution_count": 72,
   "id": "46e05ad1",
   "metadata": {},
   "outputs": [],
   "source": [
    "char_list = {\n",
    "    k: standardize(v, k)\n",
    "    for k, v in char_list.items()\n",
    "}"
   ]
  },
  {
   "cell_type": "code",
   "execution_count": 73,
   "id": "9f4421cc",
   "metadata": {},
   "outputs": [],
   "source": [
    "words['老'] = '⿱耂匕'"
   ]
  },
  {
   "cell_type": "code",
   "execution_count": 74,
   "id": "f81e8a22",
   "metadata": {},
   "outputs": [
    {
     "data": {
      "text/plain": [
       "'⿹⿺㇉⿻三丨灬'"
      ]
     },
     "execution_count": 74,
     "metadata": {},
     "output_type": "execute_result"
    }
   ],
   "source": [
    "words['馬']"
   ]
  },
  {
   "cell_type": "code",
   "execution_count": 75,
   "id": "20930ed4",
   "metadata": {},
   "outputs": [],
   "source": [
    "comp_to_n_children = {\n",
    "    '⿰':2,\n",
    "    '⿱':2,\n",
    "    '⿲':3,\n",
    "    '⿳':3,\n",
    "    '⿴':2,\n",
    "    '⿵':2,\n",
    "    '⿶':2,\n",
    "    '⿷':2,\n",
    "    '⿸':2,\n",
    "    '⿹':2,\n",
    "    '⿺':2,\n",
    "    '⿻':2\n",
    "}\n",
    "compositions = {\n",
    "    'binary': ['⿰', '⿱', '⿴', '⿵', '⿶', '⿷', '⿸', '⿹', '⿺', '⿻'],\n",
    "    'ternary': ['⿲', '⿳']\n",
    "}"
   ]
  },
  {
   "cell_type": "code",
   "execution_count": 76,
   "id": "897fe9dd",
   "metadata": {},
   "outputs": [],
   "source": [
    "class Composition:\n",
    "    def __init__(self, data):\n",
    "        self.type = 'comp'\n",
    "        self.glyph = data\n",
    "        self.children = []\n",
    "        self.parent = None\n",
    "\n",
    "class Char:\n",
    "    def __init__(self, data):\n",
    "        self.type = 'char'\n",
    "        self.glyph = data\n",
    "        self.child = None\n",
    "        self.parents = []"
   ]
  },
  {
   "cell_type": "code",
   "execution_count": 77,
   "id": "3fa88395",
   "metadata": {},
   "outputs": [],
   "source": [
    "chars = {}\n",
    "leftover = None\n",
    "def recurse(curr, num_children_expected, parent):\n",
    "    global leftover\n",
    "    global chars\n",
    "    for _ in range(num_children_expected):\n",
    "        curr_symbol = leftover[0]\n",
    "        if curr_symbol in compositions['binary'] or curr_symbol in compositions['ternary']:\n",
    "            leftover = leftover[1:]\n",
    "            num_children_expected = 3 if curr_symbol in compositions['ternary'] else 2\n",
    "            composition = Composition(curr_symbol)\n",
    "            curr.children.append(composition)\n",
    "            composition.parent = parent\n",
    "            recurse(composition, num_children_expected=num_children_expected, parent=composition)\n",
    "        else:\n",
    "            if curr_symbol not in chars:\n",
    "                char = Char(curr_symbol)\n",
    "                chars[curr_symbol] = char\n",
    "            curr.children.append(chars[curr_symbol])\n",
    "            chars[curr_symbol].parents.append(curr)\n",
    "            leftover = leftover[1:]\n",
    "\n",
    "def process(input_word, breakdown):\n",
    "    if len(breakdown) == 1:\n",
    "        # trivial\n",
    "        return\n",
    "    global leftover\n",
    "    global chars\n",
    "    first = breakdown[0]\n",
    "    if input_word not in chars:\n",
    "        word = Char(input_word)\n",
    "        chars[input_word] = word\n",
    "    word = chars[input_word]\n",
    "    c = Composition(first)\n",
    "    c.parent = word\n",
    "    word.child = c\n",
    "    leftover = breakdown[1:]\n",
    "    \n",
    "#     if input_word == '㔐':\n",
    "#         print(word.symbol)\n",
    "#         print(word.child.parent.symbol)\n",
    "    \n",
    "    num_children_expected = 3 if first in compositions['ternary'] else 2\n",
    "    recurse(c, num_children_expected=num_children_expected, parent=c)\n",
    "    return word"
   ]
  },
  {
   "cell_type": "code",
   "execution_count": 78,
   "id": "d48fcdb8",
   "metadata": {},
   "outputs": [],
   "source": [
    "def bfs(root):\n",
    "    q = [(0, root)]\n",
    "    while len(q) != 0:\n",
    "        level, curr = q[0]\n",
    "        q = q[1:]\n",
    "        if curr.type == 'char':\n",
    "            print('#' * level, curr.glyph)\n",
    "            if curr.child:\n",
    "                q.append((level + 1, curr.child))\n",
    "        else:\n",
    "            print('$' * level, curr.glyph)\n",
    "            for c in curr.children:\n",
    "                q.append((level + 1, c))"
   ]
  },
  {
   "cell_type": "code",
   "execution_count": 79,
   "id": "9309de60",
   "metadata": {},
   "outputs": [
    {
     "name": "stdout",
     "output_type": "stream",
     "text": [
      " 佥\n",
      "$ ⿳\n",
      "## 亼\n",
      "## 𭕄\n",
      "## 一\n",
      " 但\n",
      "$ ⿰\n",
      "## 亻\n",
      "## 旦\n"
     ]
    }
   ],
   "source": [
    "word = '佥'\n",
    "breakdown = '⿳亼𭕄一'\n",
    "a = process(word, breakdown)\n",
    "bfs(a)\n",
    "\n",
    "word = '但'\n",
    "breakdown = '⿰亻旦'\n",
    "b = process(word, breakdown)\n",
    "bfs(b)"
   ]
  },
  {
   "cell_type": "code",
   "execution_count": 80,
   "id": "916f191c",
   "metadata": {},
   "outputs": [
    {
     "name": "stdout",
     "output_type": "stream",
     "text": [
      "𠀌 ⿻⿱一丨 1 4\n",
      "𠁔 ⿱⿻並甹 1 4\n",
      "𠂶 ⿱丿⿹⿺㇉⿱一⿰一丿 1 10\n",
      "𠃛 ⿰⿷𰀄亅 1 4\n",
      "𠃢 ⿻⿰丿丨⿹𠃊 1 6\n",
      "𠃬 ⿻⿷己匚 1 4\n",
      "𠄷 ⿱⿲𠔼 1 3\n",
      "𠇇 ⿰人⿺⿻二丶 1 6\n",
      "𠑻 ⿳亠儿 1 3\n",
      "𠦂 ⿻十 1 2\n",
      "𠨰 ⿸厂⿻乙 1 4\n",
      "𠬶 ⿳⿻一冖又 1 5\n",
      "𡆢 ⿴囗 1 2\n",
      "𡖈 ⿱⿴丨⿴丨 1 5\n",
      "𡦹 ⿱丶⿵𠘨 1 4\n",
      "𡧑 ⿳宀大 1 3\n",
      "𡰣 ⿱丿 1 2\n",
      "𢀓 ⿻工 1 2\n",
      "𢀖 ⿱工 1 2\n",
      "𢋪 ⿸广⿳⿻⿰丨丨八⿲𠀉乂彐 1 12\n",
      "𤔔 ⿳爪龴⿵冂⿱厶 1 7\n",
      "𤕈 ⿱爪⿲呂⿱⿱丨呂 1 8\n",
      "𥪐 ⿱立⿰⿺乙仌 1 6\n",
      "𥪑 ⿱立⿰⿺乙牛 1 6\n",
      "𥸧 米⿰丁 1 3\n",
      "𦉭 ⿻儿⿹𠃊 1 4\n",
      "𦱉 ⿱艸 1 2\n",
      "𧩶 ⿰言 1 2\n",
      "𧭹 ⿱言 1 2\n",
      "𨸏 ⿱丿⿰丨⿳ 1 5\n",
      "𩻝 ⿰魚 1 2\n",
      "𩼁 ⿰魚 1 2\n",
      "𩼧 ⿰魚 1 2\n",
      "𪛄 ⿳㽞𠮥⿰𢑑⿺乙⿰丨 1 9\n"
     ]
    }
   ],
   "source": [
    "for i, (char, breakdown) in enumerate(char_list.items()):\n",
    "    if not breakdown:\n",
    "        continue\n",
    "    try:\n",
    "        process(char, breakdown)\n",
    "    except Exception:\n",
    "        print(char, breakdown, len(char), len(breakdown))"
   ]
  },
  {
   "cell_type": "code",
   "execution_count": null,
   "id": "740ff853",
   "metadata": {},
   "outputs": [],
   "source": []
  }
 ],
 "metadata": {
  "kernelspec": {
   "display_name": "Python 3 (ipykernel)",
   "language": "python",
   "name": "python3"
  },
  "language_info": {
   "codemirror_mode": {
    "name": "ipython",
    "version": 3
   },
   "file_extension": ".py",
   "mimetype": "text/x-python",
   "name": "python",
   "nbconvert_exporter": "python",
   "pygments_lexer": "ipython3",
   "version": "3.10.2"
  }
 },
 "nbformat": 4,
 "nbformat_minor": 5
}
